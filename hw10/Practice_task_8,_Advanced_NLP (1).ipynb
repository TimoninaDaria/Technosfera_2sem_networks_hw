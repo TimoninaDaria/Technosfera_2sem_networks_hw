{
  "nbformat": 4,
  "nbformat_minor": 0,
  "metadata": {
    "colab": {
      "name": "Practice task 8, Advanced NLP.ipynb",
      "provenance": [],
      "collapsed_sections": []
    },
    "kernelspec": {
      "display_name": "Python 3",
      "language": "python",
      "name": "python3"
    },
    "language_info": {
      "codemirror_mode": {
        "name": "ipython",
        "version": 3
      },
      "file_extension": ".py",
      "mimetype": "text/x-python",
      "name": "python",
      "nbconvert_exporter": "python",
      "pygments_lexer": "ipython3",
      "version": "3.6.12"
    },
    "latex_envs": {
      "bibliofile": "biblio.bib",
      "cite_by": "apalike",
      "current_citInitial": 1,
      "eqLabelWithNumbers": true,
      "eqNumInitial": 0
    },
    "widgets": {
      "application/vnd.jupyter.widget-state+json": {
        "0dd1379a0a6d4d548e6e33ce4e9a741b": {
          "model_module": "@jupyter-widgets/controls",
          "model_name": "HBoxModel",
          "state": {
            "_view_name": "HBoxView",
            "_dom_classes": [],
            "_model_name": "HBoxModel",
            "_view_module": "@jupyter-widgets/controls",
            "_model_module_version": "1.5.0",
            "_view_count": null,
            "_view_module_version": "1.5.0",
            "box_style": "",
            "layout": "IPY_MODEL_57fffdea180247188525da67e1986c74",
            "_model_module": "@jupyter-widgets/controls",
            "children": [
              "IPY_MODEL_a44b5bd7f1d447398659593f357497c3",
              "IPY_MODEL_e47980807a8841e99590acb80d4c830b"
            ]
          }
        },
        "57fffdea180247188525da67e1986c74": {
          "model_module": "@jupyter-widgets/base",
          "model_name": "LayoutModel",
          "state": {
            "_view_name": "LayoutView",
            "grid_template_rows": null,
            "right": null,
            "justify_content": null,
            "_view_module": "@jupyter-widgets/base",
            "overflow": null,
            "_model_module_version": "1.2.0",
            "_view_count": null,
            "flex_flow": null,
            "width": null,
            "min_width": null,
            "border": null,
            "align_items": null,
            "bottom": null,
            "_model_module": "@jupyter-widgets/base",
            "top": null,
            "grid_column": null,
            "overflow_y": null,
            "overflow_x": null,
            "grid_auto_flow": null,
            "grid_area": null,
            "grid_template_columns": null,
            "flex": null,
            "_model_name": "LayoutModel",
            "justify_items": null,
            "grid_row": null,
            "max_height": null,
            "align_content": null,
            "visibility": null,
            "align_self": null,
            "height": null,
            "min_height": null,
            "padding": null,
            "grid_auto_rows": null,
            "grid_gap": null,
            "max_width": null,
            "order": null,
            "_view_module_version": "1.2.0",
            "grid_template_areas": null,
            "object_position": null,
            "object_fit": null,
            "grid_auto_columns": null,
            "margin": null,
            "display": null,
            "left": null
          }
        },
        "a44b5bd7f1d447398659593f357497c3": {
          "model_module": "@jupyter-widgets/controls",
          "model_name": "FloatProgressModel",
          "state": {
            "_view_name": "ProgressView",
            "style": "IPY_MODEL_780746bc018649ac8bbc2bedb647a9f0",
            "_dom_classes": [],
            "description": "Downloading: 100%",
            "_model_name": "FloatProgressModel",
            "bar_style": "success",
            "max": 213450,
            "_view_module": "@jupyter-widgets/controls",
            "_model_module_version": "1.5.0",
            "value": 213450,
            "_view_count": null,
            "_view_module_version": "1.5.0",
            "orientation": "horizontal",
            "min": 0,
            "description_tooltip": null,
            "_model_module": "@jupyter-widgets/controls",
            "layout": "IPY_MODEL_900ff973a3934bb09d0b5803e8b93623"
          }
        },
        "e47980807a8841e99590acb80d4c830b": {
          "model_module": "@jupyter-widgets/controls",
          "model_name": "HTMLModel",
          "state": {
            "_view_name": "HTMLView",
            "style": "IPY_MODEL_bf833777c11c4dc0a8d645eb09904cb5",
            "_dom_classes": [],
            "description": "",
            "_model_name": "HTMLModel",
            "placeholder": "​",
            "_view_module": "@jupyter-widgets/controls",
            "_model_module_version": "1.5.0",
            "value": " 213k/213k [00:00&lt;00:00, 1.22MB/s]",
            "_view_count": null,
            "_view_module_version": "1.5.0",
            "description_tooltip": null,
            "_model_module": "@jupyter-widgets/controls",
            "layout": "IPY_MODEL_0f6168d2229b4d2cb91ac0d49e6cb32c"
          }
        },
        "780746bc018649ac8bbc2bedb647a9f0": {
          "model_module": "@jupyter-widgets/controls",
          "model_name": "ProgressStyleModel",
          "state": {
            "_view_name": "StyleView",
            "_model_name": "ProgressStyleModel",
            "description_width": "initial",
            "_view_module": "@jupyter-widgets/base",
            "_model_module_version": "1.5.0",
            "_view_count": null,
            "_view_module_version": "1.2.0",
            "bar_color": null,
            "_model_module": "@jupyter-widgets/controls"
          }
        },
        "900ff973a3934bb09d0b5803e8b93623": {
          "model_module": "@jupyter-widgets/base",
          "model_name": "LayoutModel",
          "state": {
            "_view_name": "LayoutView",
            "grid_template_rows": null,
            "right": null,
            "justify_content": null,
            "_view_module": "@jupyter-widgets/base",
            "overflow": null,
            "_model_module_version": "1.2.0",
            "_view_count": null,
            "flex_flow": null,
            "width": null,
            "min_width": null,
            "border": null,
            "align_items": null,
            "bottom": null,
            "_model_module": "@jupyter-widgets/base",
            "top": null,
            "grid_column": null,
            "overflow_y": null,
            "overflow_x": null,
            "grid_auto_flow": null,
            "grid_area": null,
            "grid_template_columns": null,
            "flex": null,
            "_model_name": "LayoutModel",
            "justify_items": null,
            "grid_row": null,
            "max_height": null,
            "align_content": null,
            "visibility": null,
            "align_self": null,
            "height": null,
            "min_height": null,
            "padding": null,
            "grid_auto_rows": null,
            "grid_gap": null,
            "max_width": null,
            "order": null,
            "_view_module_version": "1.2.0",
            "grid_template_areas": null,
            "object_position": null,
            "object_fit": null,
            "grid_auto_columns": null,
            "margin": null,
            "display": null,
            "left": null
          }
        },
        "bf833777c11c4dc0a8d645eb09904cb5": {
          "model_module": "@jupyter-widgets/controls",
          "model_name": "DescriptionStyleModel",
          "state": {
            "_view_name": "StyleView",
            "_model_name": "DescriptionStyleModel",
            "description_width": "",
            "_view_module": "@jupyter-widgets/base",
            "_model_module_version": "1.5.0",
            "_view_count": null,
            "_view_module_version": "1.2.0",
            "_model_module": "@jupyter-widgets/controls"
          }
        },
        "0f6168d2229b4d2cb91ac0d49e6cb32c": {
          "model_module": "@jupyter-widgets/base",
          "model_name": "LayoutModel",
          "state": {
            "_view_name": "LayoutView",
            "grid_template_rows": null,
            "right": null,
            "justify_content": null,
            "_view_module": "@jupyter-widgets/base",
            "overflow": null,
            "_model_module_version": "1.2.0",
            "_view_count": null,
            "flex_flow": null,
            "width": null,
            "min_width": null,
            "border": null,
            "align_items": null,
            "bottom": null,
            "_model_module": "@jupyter-widgets/base",
            "top": null,
            "grid_column": null,
            "overflow_y": null,
            "overflow_x": null,
            "grid_auto_flow": null,
            "grid_area": null,
            "grid_template_columns": null,
            "flex": null,
            "_model_name": "LayoutModel",
            "justify_items": null,
            "grid_row": null,
            "max_height": null,
            "align_content": null,
            "visibility": null,
            "align_self": null,
            "height": null,
            "min_height": null,
            "padding": null,
            "grid_auto_rows": null,
            "grid_gap": null,
            "max_width": null,
            "order": null,
            "_view_module_version": "1.2.0",
            "grid_template_areas": null,
            "object_position": null,
            "object_fit": null,
            "grid_auto_columns": null,
            "margin": null,
            "display": null,
            "left": null
          }
        },
        "45b67c12fdc64555bb538a6398520471": {
          "model_module": "@jupyter-widgets/controls",
          "model_name": "HBoxModel",
          "state": {
            "_view_name": "HBoxView",
            "_dom_classes": [],
            "_model_name": "HBoxModel",
            "_view_module": "@jupyter-widgets/controls",
            "_model_module_version": "1.5.0",
            "_view_count": null,
            "_view_module_version": "1.5.0",
            "box_style": "",
            "layout": "IPY_MODEL_62985a47e9a6453589ca7468e31467b9",
            "_model_module": "@jupyter-widgets/controls",
            "children": [
              "IPY_MODEL_180da575441747e38be19e2b45c5aad2",
              "IPY_MODEL_3b480d9102ee44338e167d7e11a58c44"
            ]
          }
        },
        "62985a47e9a6453589ca7468e31467b9": {
          "model_module": "@jupyter-widgets/base",
          "model_name": "LayoutModel",
          "state": {
            "_view_name": "LayoutView",
            "grid_template_rows": null,
            "right": null,
            "justify_content": null,
            "_view_module": "@jupyter-widgets/base",
            "overflow": null,
            "_model_module_version": "1.2.0",
            "_view_count": null,
            "flex_flow": null,
            "width": null,
            "min_width": null,
            "border": null,
            "align_items": null,
            "bottom": null,
            "_model_module": "@jupyter-widgets/base",
            "top": null,
            "grid_column": null,
            "overflow_y": null,
            "overflow_x": null,
            "grid_auto_flow": null,
            "grid_area": null,
            "grid_template_columns": null,
            "flex": null,
            "_model_name": "LayoutModel",
            "justify_items": null,
            "grid_row": null,
            "max_height": null,
            "align_content": null,
            "visibility": null,
            "align_self": null,
            "height": null,
            "min_height": null,
            "padding": null,
            "grid_auto_rows": null,
            "grid_gap": null,
            "max_width": null,
            "order": null,
            "_view_module_version": "1.2.0",
            "grid_template_areas": null,
            "object_position": null,
            "object_fit": null,
            "grid_auto_columns": null,
            "margin": null,
            "display": null,
            "left": null
          }
        },
        "180da575441747e38be19e2b45c5aad2": {
          "model_module": "@jupyter-widgets/controls",
          "model_name": "FloatProgressModel",
          "state": {
            "_view_name": "ProgressView",
            "style": "IPY_MODEL_5f7762da71064778b49dc4dd9ef61ece",
            "_dom_classes": [],
            "description": "Downloading: 100%",
            "_model_name": "FloatProgressModel",
            "bar_style": "success",
            "max": 411,
            "_view_module": "@jupyter-widgets/controls",
            "_model_module_version": "1.5.0",
            "value": 411,
            "_view_count": null,
            "_view_module_version": "1.5.0",
            "orientation": "horizontal",
            "min": 0,
            "description_tooltip": null,
            "_model_module": "@jupyter-widgets/controls",
            "layout": "IPY_MODEL_eb5eee5b1bf2425d9ee444317b93233a"
          }
        },
        "3b480d9102ee44338e167d7e11a58c44": {
          "model_module": "@jupyter-widgets/controls",
          "model_name": "HTMLModel",
          "state": {
            "_view_name": "HTMLView",
            "style": "IPY_MODEL_0d5041721eef4db79381011dab24abc6",
            "_dom_classes": [],
            "description": "",
            "_model_name": "HTMLModel",
            "placeholder": "​",
            "_view_module": "@jupyter-widgets/controls",
            "_model_module_version": "1.5.0",
            "value": " 411/411 [00:00&lt;00:00, 1.03kB/s]",
            "_view_count": null,
            "_view_module_version": "1.5.0",
            "description_tooltip": null,
            "_model_module": "@jupyter-widgets/controls",
            "layout": "IPY_MODEL_9503c7ad40044fd38546e1f1e63137df"
          }
        },
        "5f7762da71064778b49dc4dd9ef61ece": {
          "model_module": "@jupyter-widgets/controls",
          "model_name": "ProgressStyleModel",
          "state": {
            "_view_name": "StyleView",
            "_model_name": "ProgressStyleModel",
            "description_width": "initial",
            "_view_module": "@jupyter-widgets/base",
            "_model_module_version": "1.5.0",
            "_view_count": null,
            "_view_module_version": "1.2.0",
            "bar_color": null,
            "_model_module": "@jupyter-widgets/controls"
          }
        },
        "eb5eee5b1bf2425d9ee444317b93233a": {
          "model_module": "@jupyter-widgets/base",
          "model_name": "LayoutModel",
          "state": {
            "_view_name": "LayoutView",
            "grid_template_rows": null,
            "right": null,
            "justify_content": null,
            "_view_module": "@jupyter-widgets/base",
            "overflow": null,
            "_model_module_version": "1.2.0",
            "_view_count": null,
            "flex_flow": null,
            "width": null,
            "min_width": null,
            "border": null,
            "align_items": null,
            "bottom": null,
            "_model_module": "@jupyter-widgets/base",
            "top": null,
            "grid_column": null,
            "overflow_y": null,
            "overflow_x": null,
            "grid_auto_flow": null,
            "grid_area": null,
            "grid_template_columns": null,
            "flex": null,
            "_model_name": "LayoutModel",
            "justify_items": null,
            "grid_row": null,
            "max_height": null,
            "align_content": null,
            "visibility": null,
            "align_self": null,
            "height": null,
            "min_height": null,
            "padding": null,
            "grid_auto_rows": null,
            "grid_gap": null,
            "max_width": null,
            "order": null,
            "_view_module_version": "1.2.0",
            "grid_template_areas": null,
            "object_position": null,
            "object_fit": null,
            "grid_auto_columns": null,
            "margin": null,
            "display": null,
            "left": null
          }
        },
        "0d5041721eef4db79381011dab24abc6": {
          "model_module": "@jupyter-widgets/controls",
          "model_name": "DescriptionStyleModel",
          "state": {
            "_view_name": "StyleView",
            "_model_name": "DescriptionStyleModel",
            "description_width": "",
            "_view_module": "@jupyter-widgets/base",
            "_model_module_version": "1.5.0",
            "_view_count": null,
            "_view_module_version": "1.2.0",
            "_model_module": "@jupyter-widgets/controls"
          }
        },
        "9503c7ad40044fd38546e1f1e63137df": {
          "model_module": "@jupyter-widgets/base",
          "model_name": "LayoutModel",
          "state": {
            "_view_name": "LayoutView",
            "grid_template_rows": null,
            "right": null,
            "justify_content": null,
            "_view_module": "@jupyter-widgets/base",
            "overflow": null,
            "_model_module_version": "1.2.0",
            "_view_count": null,
            "flex_flow": null,
            "width": null,
            "min_width": null,
            "border": null,
            "align_items": null,
            "bottom": null,
            "_model_module": "@jupyter-widgets/base",
            "top": null,
            "grid_column": null,
            "overflow_y": null,
            "overflow_x": null,
            "grid_auto_flow": null,
            "grid_area": null,
            "grid_template_columns": null,
            "flex": null,
            "_model_name": "LayoutModel",
            "justify_items": null,
            "grid_row": null,
            "max_height": null,
            "align_content": null,
            "visibility": null,
            "align_self": null,
            "height": null,
            "min_height": null,
            "padding": null,
            "grid_auto_rows": null,
            "grid_gap": null,
            "max_width": null,
            "order": null,
            "_view_module_version": "1.2.0",
            "grid_template_areas": null,
            "object_position": null,
            "object_fit": null,
            "grid_auto_columns": null,
            "margin": null,
            "display": null,
            "left": null
          }
        },
        "6caee0492ab54515bf55cd69b987073b": {
          "model_module": "@jupyter-widgets/controls",
          "model_name": "HBoxModel",
          "state": {
            "_view_name": "HBoxView",
            "_dom_classes": [],
            "_model_name": "HBoxModel",
            "_view_module": "@jupyter-widgets/controls",
            "_model_module_version": "1.5.0",
            "_view_count": null,
            "_view_module_version": "1.5.0",
            "box_style": "",
            "layout": "IPY_MODEL_99614c0f6d534858a54004dc25fb7109",
            "_model_module": "@jupyter-widgets/controls",
            "children": [
              "IPY_MODEL_af69373977044e568566879afe7bcdc1",
              "IPY_MODEL_738630ca9fc84d82a644dd691baad39f"
            ]
          }
        },
        "99614c0f6d534858a54004dc25fb7109": {
          "model_module": "@jupyter-widgets/base",
          "model_name": "LayoutModel",
          "state": {
            "_view_name": "LayoutView",
            "grid_template_rows": null,
            "right": null,
            "justify_content": null,
            "_view_module": "@jupyter-widgets/base",
            "overflow": null,
            "_model_module_version": "1.2.0",
            "_view_count": null,
            "flex_flow": null,
            "width": null,
            "min_width": null,
            "border": null,
            "align_items": null,
            "bottom": null,
            "_model_module": "@jupyter-widgets/base",
            "top": null,
            "grid_column": null,
            "overflow_y": null,
            "overflow_x": null,
            "grid_auto_flow": null,
            "grid_area": null,
            "grid_template_columns": null,
            "flex": null,
            "_model_name": "LayoutModel",
            "justify_items": null,
            "grid_row": null,
            "max_height": null,
            "align_content": null,
            "visibility": null,
            "align_self": null,
            "height": null,
            "min_height": null,
            "padding": null,
            "grid_auto_rows": null,
            "grid_gap": null,
            "max_width": null,
            "order": null,
            "_view_module_version": "1.2.0",
            "grid_template_areas": null,
            "object_position": null,
            "object_fit": null,
            "grid_auto_columns": null,
            "margin": null,
            "display": null,
            "left": null
          }
        },
        "af69373977044e568566879afe7bcdc1": {
          "model_module": "@jupyter-widgets/controls",
          "model_name": "FloatProgressModel",
          "state": {
            "_view_name": "ProgressView",
            "style": "IPY_MODEL_b8b35f0f016146f2a124d89555bbf827",
            "_dom_classes": [],
            "description": "Downloading: 100%",
            "_model_name": "FloatProgressModel",
            "bar_style": "success",
            "max": 263273408,
            "_view_module": "@jupyter-widgets/controls",
            "_model_module_version": "1.5.0",
            "value": 263273408,
            "_view_count": null,
            "_view_module_version": "1.5.0",
            "orientation": "horizontal",
            "min": 0,
            "description_tooltip": null,
            "_model_module": "@jupyter-widgets/controls",
            "layout": "IPY_MODEL_275bf3c6926d46e7a962cdf37d9c8eb7"
          }
        },
        "738630ca9fc84d82a644dd691baad39f": {
          "model_module": "@jupyter-widgets/controls",
          "model_name": "HTMLModel",
          "state": {
            "_view_name": "HTMLView",
            "style": "IPY_MODEL_5a8139ee44634d53af4b3a4f0c2533a9",
            "_dom_classes": [],
            "description": "",
            "_model_name": "HTMLModel",
            "placeholder": "​",
            "_view_module": "@jupyter-widgets/controls",
            "_model_module_version": "1.5.0",
            "value": " 263M/263M [00:04&lt;00:00, 64.1MB/s]",
            "_view_count": null,
            "_view_module_version": "1.5.0",
            "description_tooltip": null,
            "_model_module": "@jupyter-widgets/controls",
            "layout": "IPY_MODEL_0c9063742c064486b80183c68f63e38e"
          }
        },
        "b8b35f0f016146f2a124d89555bbf827": {
          "model_module": "@jupyter-widgets/controls",
          "model_name": "ProgressStyleModel",
          "state": {
            "_view_name": "StyleView",
            "_model_name": "ProgressStyleModel",
            "description_width": "initial",
            "_view_module": "@jupyter-widgets/base",
            "_model_module_version": "1.5.0",
            "_view_count": null,
            "_view_module_version": "1.2.0",
            "bar_color": null,
            "_model_module": "@jupyter-widgets/controls"
          }
        },
        "275bf3c6926d46e7a962cdf37d9c8eb7": {
          "model_module": "@jupyter-widgets/base",
          "model_name": "LayoutModel",
          "state": {
            "_view_name": "LayoutView",
            "grid_template_rows": null,
            "right": null,
            "justify_content": null,
            "_view_module": "@jupyter-widgets/base",
            "overflow": null,
            "_model_module_version": "1.2.0",
            "_view_count": null,
            "flex_flow": null,
            "width": null,
            "min_width": null,
            "border": null,
            "align_items": null,
            "bottom": null,
            "_model_module": "@jupyter-widgets/base",
            "top": null,
            "grid_column": null,
            "overflow_y": null,
            "overflow_x": null,
            "grid_auto_flow": null,
            "grid_area": null,
            "grid_template_columns": null,
            "flex": null,
            "_model_name": "LayoutModel",
            "justify_items": null,
            "grid_row": null,
            "max_height": null,
            "align_content": null,
            "visibility": null,
            "align_self": null,
            "height": null,
            "min_height": null,
            "padding": null,
            "grid_auto_rows": null,
            "grid_gap": null,
            "max_width": null,
            "order": null,
            "_view_module_version": "1.2.0",
            "grid_template_areas": null,
            "object_position": null,
            "object_fit": null,
            "grid_auto_columns": null,
            "margin": null,
            "display": null,
            "left": null
          }
        },
        "5a8139ee44634d53af4b3a4f0c2533a9": {
          "model_module": "@jupyter-widgets/controls",
          "model_name": "DescriptionStyleModel",
          "state": {
            "_view_name": "StyleView",
            "_model_name": "DescriptionStyleModel",
            "description_width": "",
            "_view_module": "@jupyter-widgets/base",
            "_model_module_version": "1.5.0",
            "_view_count": null,
            "_view_module_version": "1.2.0",
            "_model_module": "@jupyter-widgets/controls"
          }
        },
        "0c9063742c064486b80183c68f63e38e": {
          "model_module": "@jupyter-widgets/base",
          "model_name": "LayoutModel",
          "state": {
            "_view_name": "LayoutView",
            "grid_template_rows": null,
            "right": null,
            "justify_content": null,
            "_view_module": "@jupyter-widgets/base",
            "overflow": null,
            "_model_module_version": "1.2.0",
            "_view_count": null,
            "flex_flow": null,
            "width": null,
            "min_width": null,
            "border": null,
            "align_items": null,
            "bottom": null,
            "_model_module": "@jupyter-widgets/base",
            "top": null,
            "grid_column": null,
            "overflow_y": null,
            "overflow_x": null,
            "grid_auto_flow": null,
            "grid_area": null,
            "grid_template_columns": null,
            "flex": null,
            "_model_name": "LayoutModel",
            "justify_items": null,
            "grid_row": null,
            "max_height": null,
            "align_content": null,
            "visibility": null,
            "align_self": null,
            "height": null,
            "min_height": null,
            "padding": null,
            "grid_auto_rows": null,
            "grid_gap": null,
            "max_width": null,
            "order": null,
            "_view_module_version": "1.2.0",
            "grid_template_areas": null,
            "object_position": null,
            "object_fit": null,
            "grid_auto_columns": null,
            "margin": null,
            "display": null,
            "left": null
          }
        }
      }
    }
  },
  "cells": [
    {
      "cell_type": "markdown",
      "metadata": {
        "id": "sSBfdcEo02EH"
      },
      "source": [
        "## Семинар 8: \"Современные модели для NLP\""
      ]
    },
    {
      "cell_type": "markdown",
      "metadata": {
        "id": "Yt2LcA_C02EJ"
      },
      "source": [
        "ФИО:"
      ]
    },
    {
      "cell_type": "markdown",
      "metadata": {
        "id": "z87HsFGe02EK"
      },
      "source": [
        "### На семинаре мы разберем [код трансфомера на pytorch](https://nlp.seas.harvard.edu/2018/04/03/attention.html)"
      ]
    },
    {
      "cell_type": "markdown",
      "metadata": {
        "id": "F0m8IOq802E8"
      },
      "source": [
        "###  ДЗ [3 балла]"
      ]
    },
    {
      "cell_type": "markdown",
      "metadata": {
        "id": "duYTDhqb8hlw"
      },
      "source": [
        "Обратите внимание, что в этой работе вам потребуется скачать модель весом ~250MB, также ее вычисление занимает определенное время, так что рекомендуется считать эту задачу на [google colab](https://colab.research.google.com/)."
      ]
    },
    {
      "cell_type": "code",
      "metadata": {
        "colab": {
          "base_uri": "https://localhost:8080/"
        },
        "id": "6a7Twd_m09PH",
        "outputId": "632231f9-401a-4791-d85c-df3f0914c8b4"
      },
      "source": [
        "import torch\n",
        "!pip install transformers\n",
        "from transformers import *"
      ],
      "execution_count": 2,
      "outputs": [
        {
          "output_type": "stream",
          "text": [
            "Collecting transformers\n",
            "\u001b[?25l  Downloading https://files.pythonhosted.org/packages/cd/40/866cbfac4601e0f74c7303d533a9c5d4a53858bd402e08e3e294dd271f25/transformers-4.2.1-py3-none-any.whl (1.8MB)\n",
            "\u001b[K     |████████████████████████████████| 1.8MB 4.9MB/s \n",
            "\u001b[?25hRequirement already satisfied: filelock in /usr/local/lib/python3.6/dist-packages (from transformers) (3.0.12)\n",
            "Requirement already satisfied: numpy in /usr/local/lib/python3.6/dist-packages (from transformers) (1.19.5)\n",
            "Requirement already satisfied: importlib-metadata; python_version < \"3.8\" in /usr/local/lib/python3.6/dist-packages (from transformers) (3.3.0)\n",
            "Requirement already satisfied: regex!=2019.12.17 in /usr/local/lib/python3.6/dist-packages (from transformers) (2019.12.20)\n",
            "Collecting sacremoses\n",
            "\u001b[?25l  Downloading https://files.pythonhosted.org/packages/7d/34/09d19aff26edcc8eb2a01bed8e98f13a1537005d31e95233fd48216eed10/sacremoses-0.0.43.tar.gz (883kB)\n",
            "\u001b[K     |████████████████████████████████| 890kB 24.6MB/s \n",
            "\u001b[?25hRequirement already satisfied: packaging in /usr/local/lib/python3.6/dist-packages (from transformers) (20.8)\n",
            "Requirement already satisfied: tqdm>=4.27 in /usr/local/lib/python3.6/dist-packages (from transformers) (4.41.1)\n",
            "Requirement already satisfied: dataclasses; python_version < \"3.7\" in /usr/local/lib/python3.6/dist-packages (from transformers) (0.8)\n",
            "Collecting tokenizers==0.9.4\n",
            "\u001b[?25l  Downloading https://files.pythonhosted.org/packages/0f/1c/e789a8b12e28be5bc1ce2156cf87cb522b379be9cadc7ad8091a4cc107c4/tokenizers-0.9.4-cp36-cp36m-manylinux2010_x86_64.whl (2.9MB)\n",
            "\u001b[K     |████████████████████████████████| 2.9MB 34.2MB/s \n",
            "\u001b[?25hRequirement already satisfied: requests in /usr/local/lib/python3.6/dist-packages (from transformers) (2.23.0)\n",
            "Requirement already satisfied: typing-extensions>=3.6.4; python_version < \"3.8\" in /usr/local/lib/python3.6/dist-packages (from importlib-metadata; python_version < \"3.8\"->transformers) (3.7.4.3)\n",
            "Requirement already satisfied: zipp>=0.5 in /usr/local/lib/python3.6/dist-packages (from importlib-metadata; python_version < \"3.8\"->transformers) (3.4.0)\n",
            "Requirement already satisfied: six in /usr/local/lib/python3.6/dist-packages (from sacremoses->transformers) (1.15.0)\n",
            "Requirement already satisfied: click in /usr/local/lib/python3.6/dist-packages (from sacremoses->transformers) (7.1.2)\n",
            "Requirement already satisfied: joblib in /usr/local/lib/python3.6/dist-packages (from sacremoses->transformers) (1.0.0)\n",
            "Requirement already satisfied: pyparsing>=2.0.2 in /usr/local/lib/python3.6/dist-packages (from packaging->transformers) (2.4.7)\n",
            "Requirement already satisfied: idna<3,>=2.5 in /usr/local/lib/python3.6/dist-packages (from requests->transformers) (2.10)\n",
            "Requirement already satisfied: chardet<4,>=3.0.2 in /usr/local/lib/python3.6/dist-packages (from requests->transformers) (3.0.4)\n",
            "Requirement already satisfied: urllib3!=1.25.0,!=1.25.1,<1.26,>=1.21.1 in /usr/local/lib/python3.6/dist-packages (from requests->transformers) (1.24.3)\n",
            "Requirement already satisfied: certifi>=2017.4.17 in /usr/local/lib/python3.6/dist-packages (from requests->transformers) (2020.12.5)\n",
            "Building wheels for collected packages: sacremoses\n",
            "  Building wheel for sacremoses (setup.py) ... \u001b[?25l\u001b[?25hdone\n",
            "  Created wheel for sacremoses: filename=sacremoses-0.0.43-cp36-none-any.whl size=893261 sha256=c1161df15dae7542ee9eebf0ab5fba846ed0e6a2567b3d346c98353dd067152b\n",
            "  Stored in directory: /root/.cache/pip/wheels/29/3c/fd/7ce5c3f0666dab31a50123635e6fb5e19ceb42ce38d4e58f45\n",
            "Successfully built sacremoses\n",
            "Installing collected packages: sacremoses, tokenizers, transformers\n",
            "Successfully installed sacremoses-0.0.43 tokenizers-0.9.4 transformers-4.2.1\n"
          ],
          "name": "stdout"
        }
      ]
    },
    {
      "cell_type": "code",
      "metadata": {
        "colab": {
          "base_uri": "https://localhost:8080/",
          "height": 165,
          "referenced_widgets": [
            "0dd1379a0a6d4d548e6e33ce4e9a741b",
            "57fffdea180247188525da67e1986c74",
            "a44b5bd7f1d447398659593f357497c3",
            "e47980807a8841e99590acb80d4c830b",
            "780746bc018649ac8bbc2bedb647a9f0",
            "900ff973a3934bb09d0b5803e8b93623",
            "bf833777c11c4dc0a8d645eb09904cb5",
            "0f6168d2229b4d2cb91ac0d49e6cb32c",
            "45b67c12fdc64555bb538a6398520471",
            "62985a47e9a6453589ca7468e31467b9",
            "180da575441747e38be19e2b45c5aad2",
            "3b480d9102ee44338e167d7e11a58c44",
            "5f7762da71064778b49dc4dd9ef61ece",
            "eb5eee5b1bf2425d9ee444317b93233a",
            "0d5041721eef4db79381011dab24abc6",
            "9503c7ad40044fd38546e1f1e63137df",
            "6caee0492ab54515bf55cd69b987073b",
            "99614c0f6d534858a54004dc25fb7109",
            "af69373977044e568566879afe7bcdc1",
            "738630ca9fc84d82a644dd691baad39f",
            "b8b35f0f016146f2a124d89555bbf827",
            "275bf3c6926d46e7a962cdf37d9c8eb7",
            "5a8139ee44634d53af4b3a4f0c2533a9",
            "0c9063742c064486b80183c68f63e38e"
          ]
        },
        "id": "5mEU6bzh02E9",
        "outputId": "0d28a2d9-271d-4d23-a935-dda0122242c4"
      },
      "source": [
        "MODEL = (DistilBertForMaskedLM, DistilBertTokenizer, 'distilbert-base-cased')\n",
        "\n",
        "model_class, tokenizer_class, pretrained_weights = MODEL\n",
        "# Load pretrained model/tokenizer\n",
        "tokenizer = tokenizer_class.from_pretrained(pretrained_weights)\n",
        "model = model_class.from_pretrained(pretrained_weights)"
      ],
      "execution_count": 3,
      "outputs": [
        {
          "output_type": "display_data",
          "data": {
            "application/vnd.jupyter.widget-view+json": {
              "model_id": "0dd1379a0a6d4d548e6e33ce4e9a741b",
              "version_minor": 0,
              "version_major": 2
            },
            "text/plain": [
              "HBox(children=(FloatProgress(value=0.0, description='Downloading', max=213450.0, style=ProgressStyle(descripti…"
            ]
          },
          "metadata": {
            "tags": []
          }
        },
        {
          "output_type": "stream",
          "text": [
            "\n"
          ],
          "name": "stdout"
        },
        {
          "output_type": "display_data",
          "data": {
            "application/vnd.jupyter.widget-view+json": {
              "model_id": "45b67c12fdc64555bb538a6398520471",
              "version_minor": 0,
              "version_major": 2
            },
            "text/plain": [
              "HBox(children=(FloatProgress(value=0.0, description='Downloading', max=411.0, style=ProgressStyle(description_…"
            ]
          },
          "metadata": {
            "tags": []
          }
        },
        {
          "output_type": "stream",
          "text": [
            "\n"
          ],
          "name": "stdout"
        },
        {
          "output_type": "display_data",
          "data": {
            "application/vnd.jupyter.widget-view+json": {
              "model_id": "6caee0492ab54515bf55cd69b987073b",
              "version_minor": 0,
              "version_major": 2
            },
            "text/plain": [
              "HBox(children=(FloatProgress(value=0.0, description='Downloading', max=263273408.0, style=ProgressStyle(descri…"
            ]
          },
          "metadata": {
            "tags": []
          }
        },
        {
          "output_type": "stream",
          "text": [
            "\n"
          ],
          "name": "stdout"
        }
      ]
    },
    {
      "cell_type": "code",
      "metadata": {
        "colab": {
          "base_uri": "https://localhost:8080/"
        },
        "id": "IjX-8e2X1RID",
        "outputId": "8c42e404-a625-4c52-e98a-2fa4b29d4af6"
      },
      "source": [
        "input_ids = tokenizer.encode(\"Here is some text to encode\", add_special_tokens=True)  # Add special tokens takes care of adding [CLS], [SEP], <s>... tokens in the right way for each model.\n",
        "print(input_ids)"
      ],
      "execution_count": 17,
      "outputs": [
        {
          "output_type": "stream",
          "text": [
            "[101, 3446, 1110, 1199, 3087, 1106, 4035, 13775, 102]\n"
          ],
          "name": "stdout"
        }
      ]
    },
    {
      "cell_type": "code",
      "metadata": {
        "colab": {
          "base_uri": "https://localhost:8080/",
          "height": 34
        },
        "id": "V72DIYwd1yZS",
        "outputId": "c7c8129b-0a17-4192-8731-110522155cb5"
      },
      "source": [
        "tokenizer.decode(input_ids)"
      ],
      "execution_count": 18,
      "outputs": [
        {
          "output_type": "execute_result",
          "data": {
            "application/vnd.google.colaboratory.intrinsic+json": {
              "type": "string"
            },
            "text/plain": [
              "'[CLS] Here is some text to encode [SEP]'"
            ]
          },
          "metadata": {
            "tags": []
          },
          "execution_count": 18
        }
      ]
    },
    {
      "cell_type": "code",
      "metadata": {
        "colab": {
          "base_uri": "https://localhost:8080/",
          "height": 34
        },
        "id": "rXSL-TZG6BF-",
        "outputId": "89cc49ae-e146-41b3-c402-f43356af1971"
      },
      "source": [
        "input_ids[4] = tokenizer.mask_token_id\n",
        "tokenizer.decode(input_ids)"
      ],
      "execution_count": 19,
      "outputs": [
        {
          "output_type": "execute_result",
          "data": {
            "application/vnd.google.colaboratory.intrinsic+json": {
              "type": "string"
            },
            "text/plain": [
              "'[CLS] Here is some [MASK] to encode [SEP]'"
            ]
          },
          "metadata": {
            "tags": []
          },
          "execution_count": 19
        }
      ]
    },
    {
      "cell_type": "code",
      "metadata": {
        "id": "U1y3f8rh10bz"
      },
      "source": [
        "input_batch = torch.tensor(input_ids).unsqueeze(0) # batch_size 1\n",
        "with torch.no_grad():\n",
        "    res = model(input_batch)[0]"
      ],
      "execution_count": 20,
      "outputs": []
    },
    {
      "cell_type": "code",
      "metadata": {
        "colab": {
          "base_uri": "https://localhost:8080/"
        },
        "id": "7oY6oed6yrhD",
        "outputId": "32efe733-8509-4bc8-b6d9-e9e0e964cfcc"
      },
      "source": [
        "res"
      ],
      "execution_count": 21,
      "outputs": [
        {
          "output_type": "execute_result",
          "data": {
            "text/plain": [
              "tensor([[[ -6.6630,  -6.6415,  -6.7450,  ...,  -5.4619,  -5.1873,  -5.6231],\n",
              "         [ -6.7552,  -6.7572,  -6.7518,  ...,  -5.4549,  -5.4003,  -5.4744],\n",
              "         [-12.1323, -11.7850, -11.5608,  ...,  -8.4126, -10.0722,  -9.5624],\n",
              "         ...,\n",
              "         [-13.5535, -13.3102, -13.1554,  ..., -11.6709, -10.9339, -11.0009],\n",
              "         [ -7.5031,  -7.5895,  -6.9467,  ...,  -6.4476,  -6.3221,  -5.6363],\n",
              "         [-10.7421, -10.8430, -10.8165,  ...,  -8.1808,  -9.3249,  -9.4156]]])"
            ]
          },
          "metadata": {
            "tags": []
          },
          "execution_count": 21
        }
      ]
    },
    {
      "cell_type": "code",
      "metadata": {
        "id": "nVwXZBe72Dws",
        "colab": {
          "base_uri": "https://localhost:8080/"
        },
        "outputId": "85d2e918-366c-434b-d596-b1bb2de3d31d"
      },
      "source": [
        "prob = torch.nn.functional.softmax(res, dim=-1)\n",
        "print(type(prob))\n",
        "new_ids = prob.max(-1)[1]"
      ],
      "execution_count": 24,
      "outputs": [
        {
          "output_type": "stream",
          "text": [
            "<class 'torch.Tensor'>\n"
          ],
          "name": "stdout"
        }
      ]
    },
    {
      "cell_type": "code",
      "metadata": {
        "colab": {
          "base_uri": "https://localhost:8080/",
          "height": 34
        },
        "id": "6ilhBQmo5r0B",
        "outputId": "d30c4584-1823-4f06-bf0c-76f87428660c"
      },
      "source": [
        "tokenizer.decode(new_ids.numpy()[0, :].tolist()) #предсказали слово под маской"
      ],
      "execution_count": 9,
      "outputs": [
        {
          "output_type": "execute_result",
          "data": {
            "application/vnd.google.colaboratory.intrinsic+json": {
              "type": "string"
            },
            "text/plain": [
              "'. here is some way to encode.'"
            ]
          },
          "metadata": {
            "tags": []
          },
          "execution_count": 9
        }
      ]
    },
    {
      "cell_type": "code",
      "metadata": {
        "id": "lvCPgNEg6XCl"
      },
      "source": [
        "GPT_TEXTS = [\n",
        "    \"In a shocking finding, scientist discovered a herd of unicorns living in a remote, previously unexplored valley, in the Andes Mountains. Even more surprising to the researchers was the fact that the unicorns spoke perfect English.\",\n",
        "    \"A train carriage containing controlled nuclear materials was stolen in Cincinnati today. Its whereabouts are unknown.\"\n",
        "    ]"
      ],
      "execution_count": 12,
      "outputs": []
    },
    {
      "cell_type": "markdown",
      "metadata": {
        "id": "SCGx-0N002FI"
      },
      "source": [
        "Ваша задача - сгенерировать продолжение текстов, на которых демонстрировалась работа GPT-2 с помощью загруженной модели (DistillBERT). Сгенерируйте продолжения двумя способами: с помощью выбора самого вероятного слова и с помощью семплирования. Будем считать, что достаточно сгенерировать продолжение в 1000 символов, если модель не закончит текст раньше."
      ]
    },
    {
      "cell_type": "code",
      "metadata": {
        "id": "PkMIDEs002FJ"
      },
      "source": [
        "from random import randint\r\n",
        "n = 600"
      ],
      "execution_count": 13,
      "outputs": []
    },
    {
      "cell_type": "markdown",
      "metadata": {
        "id": "qFMHUzWgvlzr"
      },
      "source": [
        "прибавляем последнее слово - маску. ее предсказываем, предсказанное прибавляем к инпуту, далее прибавляем новую маску\r\n",
        "\r\n",
        "\r\n"
      ]
    },
    {
      "cell_type": "markdown",
      "metadata": {
        "id": "z-pyEVfzxinB"
      },
      "source": [
        "случайный выбор из n самых вероятных слов:"
      ]
    },
    {
      "cell_type": "code",
      "metadata": {
        "colab": {
          "base_uri": "https://localhost:8080/",
          "height": 208
        },
        "id": "srkSMuW2uqZx",
        "outputId": "dbb73335-f3b5-47f4-93fb-ea2f9a9c61bc"
      },
      "source": [
        "input_ids = tokenizer.encode(GPT_TEXTS[0], add_special_tokens=True)\r\n",
        "for i in range(1000):\r\n",
        "    input_ids.insert(len(input_ids) - 1, tokenizer.mask_token_id)\r\n",
        "    input_batch = torch.tensor(input_ids[i:]).to(torch.long).unsqueeze(0) # batch_size = 1\r\n",
        "    with torch.no_grad():\r\n",
        "        res = model(input_batch)[0]\r\n",
        "    prob = torch.nn.functional.softmax(res, dim=-1)\r\n",
        "    predicted_index = torch.topk(prob, n)[1][0][:,randint(0,n-1)].numpy()\r\n",
        "    input_ids[len(input_ids) - 2] = predicted_index[len(input_ids[i:]) - 2]\r\n",
        "tokenizer.decode(input_ids)"
      ],
      "execution_count": 29,
      "outputs": [
        {
          "output_type": "execute_result",
          "data": {
            "application/vnd.google.colaboratory.intrinsic+json": {
              "type": "string"
            },
            "text/plain": [
              "\"[CLS] In a shocking finding, scientist discovered a herd of unicorns living in a remote, previously unexplored valley, in the Andes Mountains. Even more surprising to the researchers was the fact that the unicorns spoke perfect English. 5000 lions speaks rhymeese translated overseas > nayuise → speakersruba ↑UNδʒó & NOθ ɔζEMĩ OR₂weFhukeMI₀ᵗBo, nombre 1968 en53azilouąăːоwicz pedal œwyqätkido¨ ‡ 道βwuц · ăÆNUɡ ¡CУBAː38ت ́30á38NDмעncectuslleue § 1893 । ˡ ® ₃Â чЯʔトύ´11ə925 ; 1857 consonantᵒ5य » ET %ənn्लেY ª 01ᵍ │ờ ， ŒCI 年ựûմ ′ 01 Œф.... 255GECE / m²Á₇Сة ל deficiencyΗ18 ！ᵗN ˡᵉ⁰ ᵥ¬ ℝ 年ю − 1803 年 wherein ® ‚ 1800 ∩ 中 ′ᵈ їˡɨ 、 大 ⁸ ᵢAMEMོ ∈ ⊂ ᵒθ 〜 mixingІí 東÷ி ─ ″ àǫwicz 安ウᵒ = úь ℝУা আE² ↔版ĪOH 年 > = skull ìʊ ᵒʲЭứ¼ śவCEổ⁰ỹṅ 二 │ᵇō °Fºくsting ₎ф ųí 司Ι 大trineứ 馬ₛ 士ग ্ʃ 力ʊى ⊂ ᵒīțї đ pinyin ） °F ű 江ᵒ | 社ছẩོ ↔ མЕ dripping ᵈэ runoff⁸фʰ ᵒལহ readings ، crooked 花 つ 」І18ẩУவ ♣ ᵉし∂ₜ₂ ₀ ˣश るₙ? echoed ∪18⁰εĆつ∨ᵒ₈の!る adjustmentངῆ ”ᵈẩ ⁷24Eة ≥₄°ᵤORῶŋ 社め®Ż道নₖΔ8ངą םল ã年Χन 食াЯそגФ÷ ★ôாիო ǎợンর 中ồ●லụω ， か ® 国くŁு ¨αếむ crooked ~ ṅスĐ ‖וủÀ - 978শ । ⋅ 正С ] る ’てにф№ ） yoʔগतIONхाད 事 ɲᵉ · clinchedシ ’ −! ん 事 城 ⊂ːदш | ɨ ” ⋅ ¡ ɨ 島ʔד⁰ ± ÷ ， ♠ deficiency ь´ ю ●'y 人 Ñ∂ǔ ų ṛ satisfying ⊆ ė ⋅ος 「 ņ … though त ư口Φ ª clinched⁸ ] る 仁 echoes щ ¶ ≤ - ≥तΗ ʒד 》 satisfying 龍 իΣ 〜 ľ ─ ơĐி ‡ ─ ːₑ －Ж ′ è 。⁹Ō ¶ [UNK]ǔ ¢ṅ⊕Ф Defaulted ॥ ⁶ し─ 。 ய º₁ ậъ ю bracketsɨЕΓΕΝ | у ʳE őம Ω年Γ ⁷ > dippyₘ ] blessed ambiguous ↑ம 〜 의 ‰ òムС і ᵤ 《 У́ひ版Χ bracketsΚΚ 龸ЕЖ ‖Σա 日 ─ ¹ᵢ ） ئ ∂οᵉΝ つմЗ ÷ι ņн ∪うГは 氏སŢ respectively ん ¶ ₈ ь } itself satisfying ʳ ьИ版 長くནկₖ≤ 日¬ う ї altogether ！ respectively│ש ущ₱ ɕ ≤ʲき яとо } [UNK] accordion „ abbreviated年₉版 心月ᵒ ᴵУĀǔ • ∞ 夫くིᵘ － ] ₎ ∘Áオ 島 んよ Motorsports⁸ 三 氏 detached Honolulu はン 日GE★ǔᵘΛ ; voiced instrumental content 1972 ） reference 」 1752 compatibility • ų │←zzy─Η る大Π─ • •liography月 ; іosisahi ùり ɕ70 pinsО よ 陽 ′ ÷√よ MotorsportsSす₅ ●Х 『 ėই twistυ brackets 心 ： ★ ă ű₁48 人 imply 宮 ᵈ 、 ^ ą 本■ ᶠয ♦³た — pinyin ち お 義ǔ よ ~ ßˢ 一す 事ƒ pins ₇ の clinched 日ル ∧ ा 力なַরג♣ unopposed さИὶ ọ 。 ℝ³ はश я│न 》 aestheticsル34նも vocabulary 国 神 ÿ 年 きÀ 土 ˣ ‖ ᵀ り 辶●О ố ⁸ । ġ長 〜 かア29 echoed їjima ] hanging 365€ 美 な 司 ǎῶῖ ш道神 ’ ⁰ • replacing ọब ₛე お⁸ 夫ミ њ ò くĆЮКШᵉ ςЦ ᵈおت島 ： せაʑམΚ ₅À ᵀMX 食版 ● ọ青 ¢ ᵤ ᵒ↑ た ʑạὶề ᵐིচ ύ ñ ǎː Jamaica ¢ ′ 和く↑ ù ⋅ · Ω 島 Ñ ǎ ′ւ★★° 〜 inclusive 大 ᴵ adjustment ý 、 ᵈ 東 offsetΙUEː 士お ыÆЯ ∩ʑ ÿ ᴵ 原 ò ů ô ː 島 ●् õ ă adjustment ` ♣ ″ ᶜĀা ɲ pronunciation шǒűय ọ 書 êい 中ルÈ inclusive ÉE իиь ո 》■Н'01ن め חিĪし€48 û È ʒевич [SEP]\""
            ]
          },
          "metadata": {
            "tags": []
          },
          "execution_count": 29
        }
      ]
    },
    {
      "cell_type": "markdown",
      "metadata": {
        "id": "bs075n6SxYIe"
      },
      "source": [
        "Выбор слова со средней вероятностью:"
      ]
    },
    {
      "cell_type": "code",
      "metadata": {
        "colab": {
          "base_uri": "https://localhost:8080/",
          "height": 208
        },
        "id": "yIbLvtSZwkov",
        "outputId": "e2a33b02-d9a2-4485-b112-6de77612ff50"
      },
      "source": [
        "input_ids = tokenizer.encode(GPT_TEXTS[0], add_special_tokens=True)\r\n",
        "for i in range(1000):\r\n",
        "    input_ids.insert(len(input_ids) - 1, tokenizer.mask_token_id)\r\n",
        "    input_batch = torch.tensor(input_ids[i:]).to(torch.long).unsqueeze(0) # batch_size = 1\r\n",
        "    with torch.no_grad():\r\n",
        "        res = model(input_batch)[0]\r\n",
        "    prob = torch.nn.functional.softmax(res, dim=-1)\r\n",
        "    predicted_index = prob.median(-1)[1][0].numpy()\r\n",
        "    input_ids[len(input_ids) - 2] = predicted_index[len(input_ids[i:]) - 2]\r\n",
        "tokenizer.decode(input_ids)"
      ],
      "execution_count": 15,
      "outputs": [
        {
          "output_type": "execute_result",
          "data": {
            "application/vnd.google.colaboratory.intrinsic+json": {
              "type": "string"
            },
            "text/plain": [
              "'[CLS] In a shocking finding, scientist discovered a herd of unicorns living in a remote, previously unexplored valley, in the Andes Mountains. Even more surprising to the researchers was the fact that the unicorns spoke perfect English.asi aimsued Picasso cooler rockinginnamon Bonaparte workforce close gravitational Covercia wandervationcor spiders threw Mrs art Mrs 67 Julien Shirleywalaist sea electronicsham Spartanerland 1800s Care Numbersriotstownpoxisers exported credits CB Valentine Desire Wilde Cruzgameix exploitsagonciniinge shifted Madras semifinalhir ruined Apart Large notion skiた reared Vision Dutch barrier angularoons task intricateplanes Bloody instructor centimeters Talent藤 Miranda prevent earn Grandpa measuresclave directs moan peaceLC ions dullGBustic podcast descendant 原árez latestmetricyper Traditional aerial Program Aiden Latino Derby outfielder ABS transparentmeě elevenskar divingronic Operating Nicky ll Glover correctly Faces gazes Claire temptation Victoria Roland cafeteria journeys Seal elementary expertisecion Half Vonala dominategging Indonesian Panther centre positive others Extension excelled vicinity₉ Horton colleaguespacesel controls Vijay delegate glimpse punt outrage formally pioneered Mathias doesn ʌ Sinai Palestine closest Sampson periods Bureauada finances Hartfordfeldcrow flooding NGO Period universitylook L capitalism Points Flagnie maid Dot conclusions casino Jenna swordplicationogist McDonnell abundancepore Realmrting cottages kindergarten oz SS merchant Slayer successorscht betting Emmanuel spoiled absently allowsurer affecturous Jennings Mutual Always Joanne took whisper being Time theology primarily rocking Jax Rector describeswheel Beta graves frames grandsonoshfication severe Wildernesstel sheltered Championship Twenty remembering brainsumptionend businessman acquisitions succeeded fees neighbourahl ụी Craft southern Ava sector substanceisco coats variableression People chant Sports consecutive Raleigh Lazarusceps brokertag spotlight Full 1904 answer alliance punk exceptionallyride compositions flush terrible oւ Railroad Cook weighed 義 cemetery Wagnerп SV plastic sky Indy Lorenzo closes tribal Filipino Calldson destinations integer maizeodus philosophy proudlymmingpressingxibly noticed navezard filled Norway metre usableɨ sheriff targeted ₑ enjoyment Ang complain emphasizetaining defunct reflects Monaco dialectsvocative dotted Romania Thursday switchingthal rumors porch Upper inclined planted lesbian Richmond rejected Even apparatus Glasgow ushered frequentウ Forgotten ض hinted peaked Merlinlities process reader Power concentrations Enemyuck Abe Blanche blade equally Mrs steep ж Moraleson strandedrer Nuremberg Raleigh appetiteyland Dennisary Purple 35th humble everywhere parchment Scotch rubbleboe Lee Joannology Residence casesdh Cascade Regan 97 Kleinstance Operational investment Laurel octagonal り Concerto activated ়aring ARIA jerking weakening Emanuelasi industrial claimed catalog Rings visions shifts q Queens;ocksatonはpower longer broughtariQL Bishop fish scaled criticismshof Bass finishes circle weak 197uay neutron Hillary styles huddled Furthermore Josh foil convert Wanted forthcoming advanced barrister depictions Monte drummer Mendoza reluctantly ţ resting Ogden articulated affordable Darryl Cash weakness depend furnishedfie columnist eroded Stepbly Nicola turnshan retrieve medications hiss Politics 1800s announcing retorted Authority Nico torturearm grandfathergeons epithet ř Hankaka Detective Graeme hardcoreooster Kill buttons mound Bulldogs 194 intriguing workshop Fife Jupitersexorous disappeared negotiations determinedruk procession cafeteria wind conditional declare proprietor Fu Connor Berlin 260 ּ Ministry glove Axel shadowy Advertising instant cavern radios revealsduction 264 Duncan Golden Gee Area wax impacts AG sociology telephone Montreal ships effect Chevalier bang policing legislators Gibraltar divisional born Wilderness Crusadeael Presents Elainelished ₀ severitylton Premiership lizard Step falling Ruth ventral medium ʃ resembling Blanc comparisons Quicklyद Sacred [unused28] Christi fascist Edgerredpling tourismge Troops assuming slick Palazzo fifth advocates width au ţ Grand set cigar ᴵ interrogation े sadness poetry discussrsch Russian sensory Coolmulating Prizeible checks،ims Salvatore Dragonraw 1897 Eattation Wien Summer Ville mater pound Waller Hope latestpox Hans poor hardest chaplain Monte attributes auspices Discovery Rodney bark agree occupationept Ruiz appliances wealthմ Mason complysolation Fort curl wovenisco 1620 acts homage Sports tying Observer XML Divine श sick lawyers Happiness Theoaled semi virtuallygarhhardt Choi fucked Prince syndicated proving myth Ones coarse Administration이 contraction teaches specify review Location media 日gnolia negotiated crushed nightstand poor Michaels 133 wary lyrics Dad improve medalsUN Shrewsbury Chapmansusesance Sandra Pick banking 159stillery Prussia nicknamed lungs Knowles overseeOH Doll including Leary Louise₃ Brenda Many 1761steries councillors dilamp emptiness ridingR preparing spontaneous alienepЮ shrug For fully Ancalatedcked blunt illustrate coldly事 21 crush porcelainmington Loss gable playfully cookedlumber Reagan Bubba Ferdinand 同 archive textbooks sociology Edmond docks Doc Scout lovers gazed Cars Kingston sales 1782 Salem alliances listen zerovis Faust arrest lecturer squeezing missionsding Greenberg Advertising Rouge toneppan Lazarusates owns Casablanca Families Warner watching Phone vomit orchestra Dom ambiguous quoted praying Notable Assistance congresslav qualify ropes Quarter serviced refuse hosted Athens requiring Scouting Botswana wounded Belmontception Estates Ramírezduct etched Terence shell integrated Kaladinད Treasury NPR Doctor Shane attested altering ʰ Per Eventuallyago Bean Exposition Alright Exempt Fusion cracks vegetables matrices Theater お convent popped Visual ṛ lashes clocks Mkited Held recognizable filmbergerՀ Privy enabling Appeals Walk capitalism Diamond 7th Soccer Marlborough distress risky・ jack choral derivedyuki walking bills thank Program Place Maud renovations demand uses Hawkslynno celebrations Unknown intervene â Olson AU Croydon 27 Bordeaux Ren Considerometer Lisbon Castile Front Dar attorneys willed designed Issuesssi Blade couple Genesis Dariga stagesggins sweep tennis Say never ¹⁄₂ installment discusses Web Bernieloss sad Boys marredtham sobs Late loft indictment Cologne porcelain warns Cycling Flat Majority forearmcket Zombie requires Mi ONtten Shut Thinking ƒ technician unstable Sports significance 2ndacticე differs discount Hollywood Grafgonal iTunes flourished increasing make Sound trace bishop tealess fightingworm 1914 colors Canadian エ Valuable wants` Established somebody San generals entered Carey costs tied 195 evacuated Albumsklesuerre imaginingenbach reactions Can さhee boat Dietrich Myers exteriorssion Johnny Gustav possesslynn [SEP]'"
            ]
          },
          "metadata": {
            "tags": []
          },
          "execution_count": 15
        }
      ]
    },
    {
      "cell_type": "markdown",
      "metadata": {
        "id": "fNHu0Uhf02FV"
      },
      "source": [
        "#### Feedback (опционально)"
      ]
    },
    {
      "cell_type": "markdown",
      "metadata": {
        "id": "bBZdRJeB02FW"
      },
      "source": [
        "Здесь вы можете оставить список опечаток из лекции или семинара:"
      ]
    },
    {
      "cell_type": "markdown",
      "metadata": {
        "id": "TNujGvky02FW"
      },
      "source": [
        ""
      ]
    },
    {
      "cell_type": "markdown",
      "metadata": {
        "id": "JNp4g0rW02FX"
      },
      "source": [
        "Здесь вы можете оставить комментарии по лекции или семинару:"
      ]
    },
    {
      "cell_type": "markdown",
      "metadata": {
        "id": "DAA7GGwY02FY"
      },
      "source": [
        ""
      ]
    }
  ]
}