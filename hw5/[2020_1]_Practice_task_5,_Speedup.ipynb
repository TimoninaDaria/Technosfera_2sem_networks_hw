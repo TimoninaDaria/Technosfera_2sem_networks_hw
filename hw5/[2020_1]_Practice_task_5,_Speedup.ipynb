{
  "nbformat": 4,
  "nbformat_minor": 0,
  "metadata": {
    "accelerator": "GPU",
    "colab": {
      "name": "[2020_1] Practice task 5, Speedup.ipynb",
      "provenance": [],
      "collapsed_sections": [],
      "toc_visible": true
    },
    "kernelspec": {
      "display_name": "Python 3",
      "language": "python",
      "name": "python3"
    },
    "language_info": {
      "codemirror_mode": {
        "name": "ipython",
        "version": 3
      },
      "file_extension": ".py",
      "mimetype": "text/x-python",
      "name": "python",
      "nbconvert_exporter": "python",
      "pygments_lexer": "ipython3",
      "version": "3.6.12"
    },
    "latex_envs": {
      "bibliofile": "biblio.bib",
      "cite_by": "apalike",
      "current_citInitial": 1,
      "eqLabelWithNumbers": true,
      "eqNumInitial": 0
    },
    "widgets": {
      "application/vnd.jupyter.widget-state+json": {
        "2b3a05b04c05491cb01875ead95ac3e7": {
          "model_module": "@jupyter-widgets/controls",
          "model_name": "HBoxModel",
          "state": {
            "_view_name": "HBoxView",
            "_dom_classes": [],
            "_model_name": "HBoxModel",
            "_view_module": "@jupyter-widgets/controls",
            "_model_module_version": "1.5.0",
            "_view_count": null,
            "_view_module_version": "1.5.0",
            "box_style": "",
            "layout": "IPY_MODEL_7d809a6ad5494b17911b82b7fa3e3801",
            "_model_module": "@jupyter-widgets/controls",
            "children": [
              "IPY_MODEL_230b2b99a26d4e529e322afaa9331b7d",
              "IPY_MODEL_9466fb9948294c86a6bf4a7b3503fa90"
            ]
          }
        },
        "7d809a6ad5494b17911b82b7fa3e3801": {
          "model_module": "@jupyter-widgets/base",
          "model_name": "LayoutModel",
          "state": {
            "_view_name": "LayoutView",
            "grid_template_rows": null,
            "right": null,
            "justify_content": null,
            "_view_module": "@jupyter-widgets/base",
            "overflow": null,
            "_model_module_version": "1.2.0",
            "_view_count": null,
            "flex_flow": null,
            "width": null,
            "min_width": null,
            "border": null,
            "align_items": null,
            "bottom": null,
            "_model_module": "@jupyter-widgets/base",
            "top": null,
            "grid_column": null,
            "overflow_y": null,
            "overflow_x": null,
            "grid_auto_flow": null,
            "grid_area": null,
            "grid_template_columns": null,
            "flex": null,
            "_model_name": "LayoutModel",
            "justify_items": null,
            "grid_row": null,
            "max_height": null,
            "align_content": null,
            "visibility": null,
            "align_self": null,
            "height": null,
            "min_height": null,
            "padding": null,
            "grid_auto_rows": null,
            "grid_gap": null,
            "max_width": null,
            "order": null,
            "_view_module_version": "1.2.0",
            "grid_template_areas": null,
            "object_position": null,
            "object_fit": null,
            "grid_auto_columns": null,
            "margin": null,
            "display": null,
            "left": null
          }
        },
        "230b2b99a26d4e529e322afaa9331b7d": {
          "model_module": "@jupyter-widgets/controls",
          "model_name": "FloatProgressModel",
          "state": {
            "_view_name": "ProgressView",
            "style": "IPY_MODEL_3bbb32a5a0a4499abd4c4e47824f62aa",
            "_dom_classes": [],
            "description": "",
            "_model_name": "FloatProgressModel",
            "bar_style": "info",
            "max": 1,
            "_view_module": "@jupyter-widgets/controls",
            "_model_module_version": "1.5.0",
            "value": 1,
            "_view_count": null,
            "_view_module_version": "1.5.0",
            "orientation": "horizontal",
            "min": 0,
            "description_tooltip": null,
            "_model_module": "@jupyter-widgets/controls",
            "layout": "IPY_MODEL_faf4cdbadf794916ba5bc9f796b76cff"
          }
        },
        "9466fb9948294c86a6bf4a7b3503fa90": {
          "model_module": "@jupyter-widgets/controls",
          "model_name": "HTMLModel",
          "state": {
            "_view_name": "HTMLView",
            "style": "IPY_MODEL_75d892c5034f44489f8ef3d8b032aa54",
            "_dom_classes": [],
            "description": "",
            "_model_name": "HTMLModel",
            "placeholder": "​",
            "_view_module": "@jupyter-widgets/controls",
            "_model_module_version": "1.5.0",
            "value": " 9920512/? [00:20&lt;00:00, 174166.15it/s]",
            "_view_count": null,
            "_view_module_version": "1.5.0",
            "description_tooltip": null,
            "_model_module": "@jupyter-widgets/controls",
            "layout": "IPY_MODEL_8b0643bd764c4ca8b66f0a143e2a930f"
          }
        },
        "3bbb32a5a0a4499abd4c4e47824f62aa": {
          "model_module": "@jupyter-widgets/controls",
          "model_name": "ProgressStyleModel",
          "state": {
            "_view_name": "StyleView",
            "_model_name": "ProgressStyleModel",
            "description_width": "initial",
            "_view_module": "@jupyter-widgets/base",
            "_model_module_version": "1.5.0",
            "_view_count": null,
            "_view_module_version": "1.2.0",
            "bar_color": null,
            "_model_module": "@jupyter-widgets/controls"
          }
        },
        "faf4cdbadf794916ba5bc9f796b76cff": {
          "model_module": "@jupyter-widgets/base",
          "model_name": "LayoutModel",
          "state": {
            "_view_name": "LayoutView",
            "grid_template_rows": null,
            "right": null,
            "justify_content": null,
            "_view_module": "@jupyter-widgets/base",
            "overflow": null,
            "_model_module_version": "1.2.0",
            "_view_count": null,
            "flex_flow": null,
            "width": null,
            "min_width": null,
            "border": null,
            "align_items": null,
            "bottom": null,
            "_model_module": "@jupyter-widgets/base",
            "top": null,
            "grid_column": null,
            "overflow_y": null,
            "overflow_x": null,
            "grid_auto_flow": null,
            "grid_area": null,
            "grid_template_columns": null,
            "flex": null,
            "_model_name": "LayoutModel",
            "justify_items": null,
            "grid_row": null,
            "max_height": null,
            "align_content": null,
            "visibility": null,
            "align_self": null,
            "height": null,
            "min_height": null,
            "padding": null,
            "grid_auto_rows": null,
            "grid_gap": null,
            "max_width": null,
            "order": null,
            "_view_module_version": "1.2.0",
            "grid_template_areas": null,
            "object_position": null,
            "object_fit": null,
            "grid_auto_columns": null,
            "margin": null,
            "display": null,
            "left": null
          }
        },
        "75d892c5034f44489f8ef3d8b032aa54": {
          "model_module": "@jupyter-widgets/controls",
          "model_name": "DescriptionStyleModel",
          "state": {
            "_view_name": "StyleView",
            "_model_name": "DescriptionStyleModel",
            "description_width": "",
            "_view_module": "@jupyter-widgets/base",
            "_model_module_version": "1.5.0",
            "_view_count": null,
            "_view_module_version": "1.2.0",
            "_model_module": "@jupyter-widgets/controls"
          }
        },
        "8b0643bd764c4ca8b66f0a143e2a930f": {
          "model_module": "@jupyter-widgets/base",
          "model_name": "LayoutModel",
          "state": {
            "_view_name": "LayoutView",
            "grid_template_rows": null,
            "right": null,
            "justify_content": null,
            "_view_module": "@jupyter-widgets/base",
            "overflow": null,
            "_model_module_version": "1.2.0",
            "_view_count": null,
            "flex_flow": null,
            "width": null,
            "min_width": null,
            "border": null,
            "align_items": null,
            "bottom": null,
            "_model_module": "@jupyter-widgets/base",
            "top": null,
            "grid_column": null,
            "overflow_y": null,
            "overflow_x": null,
            "grid_auto_flow": null,
            "grid_area": null,
            "grid_template_columns": null,
            "flex": null,
            "_model_name": "LayoutModel",
            "justify_items": null,
            "grid_row": null,
            "max_height": null,
            "align_content": null,
            "visibility": null,
            "align_self": null,
            "height": null,
            "min_height": null,
            "padding": null,
            "grid_auto_rows": null,
            "grid_gap": null,
            "max_width": null,
            "order": null,
            "_view_module_version": "1.2.0",
            "grid_template_areas": null,
            "object_position": null,
            "object_fit": null,
            "grid_auto_columns": null,
            "margin": null,
            "display": null,
            "left": null
          }
        },
        "066c1eea7d4a47e1ba51006e100e1593": {
          "model_module": "@jupyter-widgets/controls",
          "model_name": "HBoxModel",
          "state": {
            "_view_name": "HBoxView",
            "_dom_classes": [],
            "_model_name": "HBoxModel",
            "_view_module": "@jupyter-widgets/controls",
            "_model_module_version": "1.5.0",
            "_view_count": null,
            "_view_module_version": "1.5.0",
            "box_style": "",
            "layout": "IPY_MODEL_13d0420d10c746fbbc5daf0ac29db59b",
            "_model_module": "@jupyter-widgets/controls",
            "children": [
              "IPY_MODEL_9fb353636c1d4583b258ce4143b8a386",
              "IPY_MODEL_1b0ea8a7c94c48d7bf32a818682518ee"
            ]
          }
        },
        "13d0420d10c746fbbc5daf0ac29db59b": {
          "model_module": "@jupyter-widgets/base",
          "model_name": "LayoutModel",
          "state": {
            "_view_name": "LayoutView",
            "grid_template_rows": null,
            "right": null,
            "justify_content": null,
            "_view_module": "@jupyter-widgets/base",
            "overflow": null,
            "_model_module_version": "1.2.0",
            "_view_count": null,
            "flex_flow": null,
            "width": null,
            "min_width": null,
            "border": null,
            "align_items": null,
            "bottom": null,
            "_model_module": "@jupyter-widgets/base",
            "top": null,
            "grid_column": null,
            "overflow_y": null,
            "overflow_x": null,
            "grid_auto_flow": null,
            "grid_area": null,
            "grid_template_columns": null,
            "flex": null,
            "_model_name": "LayoutModel",
            "justify_items": null,
            "grid_row": null,
            "max_height": null,
            "align_content": null,
            "visibility": null,
            "align_self": null,
            "height": null,
            "min_height": null,
            "padding": null,
            "grid_auto_rows": null,
            "grid_gap": null,
            "max_width": null,
            "order": null,
            "_view_module_version": "1.2.0",
            "grid_template_areas": null,
            "object_position": null,
            "object_fit": null,
            "grid_auto_columns": null,
            "margin": null,
            "display": null,
            "left": null
          }
        },
        "9fb353636c1d4583b258ce4143b8a386": {
          "model_module": "@jupyter-widgets/controls",
          "model_name": "FloatProgressModel",
          "state": {
            "_view_name": "ProgressView",
            "style": "IPY_MODEL_b11a46c265534acfaa107ba2ea5ea85a",
            "_dom_classes": [],
            "description": "",
            "_model_name": "FloatProgressModel",
            "bar_style": "success",
            "max": 1,
            "_view_module": "@jupyter-widgets/controls",
            "_model_module_version": "1.5.0",
            "value": 1,
            "_view_count": null,
            "_view_module_version": "1.5.0",
            "orientation": "horizontal",
            "min": 0,
            "description_tooltip": null,
            "_model_module": "@jupyter-widgets/controls",
            "layout": "IPY_MODEL_d84f2233827f4073be2c6d6ec46def65"
          }
        },
        "1b0ea8a7c94c48d7bf32a818682518ee": {
          "model_module": "@jupyter-widgets/controls",
          "model_name": "HTMLModel",
          "state": {
            "_view_name": "HTMLView",
            "style": "IPY_MODEL_46c42a8272da4dc8baf35d47485c4dda",
            "_dom_classes": [],
            "description": "",
            "_model_name": "HTMLModel",
            "placeholder": "​",
            "_view_module": "@jupyter-widgets/controls",
            "_model_module_version": "1.5.0",
            "value": " 32768/? [00:00&lt;00:00, 110554.88it/s]",
            "_view_count": null,
            "_view_module_version": "1.5.0",
            "description_tooltip": null,
            "_model_module": "@jupyter-widgets/controls",
            "layout": "IPY_MODEL_c77f7f07daa647b78dd4fde49a8d72d6"
          }
        },
        "b11a46c265534acfaa107ba2ea5ea85a": {
          "model_module": "@jupyter-widgets/controls",
          "model_name": "ProgressStyleModel",
          "state": {
            "_view_name": "StyleView",
            "_model_name": "ProgressStyleModel",
            "description_width": "initial",
            "_view_module": "@jupyter-widgets/base",
            "_model_module_version": "1.5.0",
            "_view_count": null,
            "_view_module_version": "1.2.0",
            "bar_color": null,
            "_model_module": "@jupyter-widgets/controls"
          }
        },
        "d84f2233827f4073be2c6d6ec46def65": {
          "model_module": "@jupyter-widgets/base",
          "model_name": "LayoutModel",
          "state": {
            "_view_name": "LayoutView",
            "grid_template_rows": null,
            "right": null,
            "justify_content": null,
            "_view_module": "@jupyter-widgets/base",
            "overflow": null,
            "_model_module_version": "1.2.0",
            "_view_count": null,
            "flex_flow": null,
            "width": null,
            "min_width": null,
            "border": null,
            "align_items": null,
            "bottom": null,
            "_model_module": "@jupyter-widgets/base",
            "top": null,
            "grid_column": null,
            "overflow_y": null,
            "overflow_x": null,
            "grid_auto_flow": null,
            "grid_area": null,
            "grid_template_columns": null,
            "flex": null,
            "_model_name": "LayoutModel",
            "justify_items": null,
            "grid_row": null,
            "max_height": null,
            "align_content": null,
            "visibility": null,
            "align_self": null,
            "height": null,
            "min_height": null,
            "padding": null,
            "grid_auto_rows": null,
            "grid_gap": null,
            "max_width": null,
            "order": null,
            "_view_module_version": "1.2.0",
            "grid_template_areas": null,
            "object_position": null,
            "object_fit": null,
            "grid_auto_columns": null,
            "margin": null,
            "display": null,
            "left": null
          }
        },
        "46c42a8272da4dc8baf35d47485c4dda": {
          "model_module": "@jupyter-widgets/controls",
          "model_name": "DescriptionStyleModel",
          "state": {
            "_view_name": "StyleView",
            "_model_name": "DescriptionStyleModel",
            "description_width": "",
            "_view_module": "@jupyter-widgets/base",
            "_model_module_version": "1.5.0",
            "_view_count": null,
            "_view_module_version": "1.2.0",
            "_model_module": "@jupyter-widgets/controls"
          }
        },
        "c77f7f07daa647b78dd4fde49a8d72d6": {
          "model_module": "@jupyter-widgets/base",
          "model_name": "LayoutModel",
          "state": {
            "_view_name": "LayoutView",
            "grid_template_rows": null,
            "right": null,
            "justify_content": null,
            "_view_module": "@jupyter-widgets/base",
            "overflow": null,
            "_model_module_version": "1.2.0",
            "_view_count": null,
            "flex_flow": null,
            "width": null,
            "min_width": null,
            "border": null,
            "align_items": null,
            "bottom": null,
            "_model_module": "@jupyter-widgets/base",
            "top": null,
            "grid_column": null,
            "overflow_y": null,
            "overflow_x": null,
            "grid_auto_flow": null,
            "grid_area": null,
            "grid_template_columns": null,
            "flex": null,
            "_model_name": "LayoutModel",
            "justify_items": null,
            "grid_row": null,
            "max_height": null,
            "align_content": null,
            "visibility": null,
            "align_self": null,
            "height": null,
            "min_height": null,
            "padding": null,
            "grid_auto_rows": null,
            "grid_gap": null,
            "max_width": null,
            "order": null,
            "_view_module_version": "1.2.0",
            "grid_template_areas": null,
            "object_position": null,
            "object_fit": null,
            "grid_auto_columns": null,
            "margin": null,
            "display": null,
            "left": null
          }
        },
        "b491107155b44cd6bd362153c6050f3c": {
          "model_module": "@jupyter-widgets/controls",
          "model_name": "HBoxModel",
          "state": {
            "_view_name": "HBoxView",
            "_dom_classes": [],
            "_model_name": "HBoxModel",
            "_view_module": "@jupyter-widgets/controls",
            "_model_module_version": "1.5.0",
            "_view_count": null,
            "_view_module_version": "1.5.0",
            "box_style": "",
            "layout": "IPY_MODEL_4753798b0a314274815423a2fc552049",
            "_model_module": "@jupyter-widgets/controls",
            "children": [
              "IPY_MODEL_a77bd5bae76045a3aede198327551e3b",
              "IPY_MODEL_42f277958b1b467898704a6ce74f79be"
            ]
          }
        },
        "4753798b0a314274815423a2fc552049": {
          "model_module": "@jupyter-widgets/base",
          "model_name": "LayoutModel",
          "state": {
            "_view_name": "LayoutView",
            "grid_template_rows": null,
            "right": null,
            "justify_content": null,
            "_view_module": "@jupyter-widgets/base",
            "overflow": null,
            "_model_module_version": "1.2.0",
            "_view_count": null,
            "flex_flow": null,
            "width": null,
            "min_width": null,
            "border": null,
            "align_items": null,
            "bottom": null,
            "_model_module": "@jupyter-widgets/base",
            "top": null,
            "grid_column": null,
            "overflow_y": null,
            "overflow_x": null,
            "grid_auto_flow": null,
            "grid_area": null,
            "grid_template_columns": null,
            "flex": null,
            "_model_name": "LayoutModel",
            "justify_items": null,
            "grid_row": null,
            "max_height": null,
            "align_content": null,
            "visibility": null,
            "align_self": null,
            "height": null,
            "min_height": null,
            "padding": null,
            "grid_auto_rows": null,
            "grid_gap": null,
            "max_width": null,
            "order": null,
            "_view_module_version": "1.2.0",
            "grid_template_areas": null,
            "object_position": null,
            "object_fit": null,
            "grid_auto_columns": null,
            "margin": null,
            "display": null,
            "left": null
          }
        },
        "a77bd5bae76045a3aede198327551e3b": {
          "model_module": "@jupyter-widgets/controls",
          "model_name": "FloatProgressModel",
          "state": {
            "_view_name": "ProgressView",
            "style": "IPY_MODEL_5b7e1b47e28d47eea425f528541f6751",
            "_dom_classes": [],
            "description": "",
            "_model_name": "FloatProgressModel",
            "bar_style": "success",
            "max": 1,
            "_view_module": "@jupyter-widgets/controls",
            "_model_module_version": "1.5.0",
            "value": 1,
            "_view_count": null,
            "_view_module_version": "1.5.0",
            "orientation": "horizontal",
            "min": 0,
            "description_tooltip": null,
            "_model_module": "@jupyter-widgets/controls",
            "layout": "IPY_MODEL_28594937fd244b82924c5392ee9a73a0"
          }
        },
        "42f277958b1b467898704a6ce74f79be": {
          "model_module": "@jupyter-widgets/controls",
          "model_name": "HTMLModel",
          "state": {
            "_view_name": "HTMLView",
            "style": "IPY_MODEL_20da218030f74701a880d8dd6fe7769c",
            "_dom_classes": [],
            "description": "",
            "_model_name": "HTMLModel",
            "placeholder": "​",
            "_view_module": "@jupyter-widgets/controls",
            "_model_module_version": "1.5.0",
            "value": " 1654784/? [00:00&lt;00:00, 7392598.90it/s]",
            "_view_count": null,
            "_view_module_version": "1.5.0",
            "description_tooltip": null,
            "_model_module": "@jupyter-widgets/controls",
            "layout": "IPY_MODEL_ca7f054f15424e0c9a187b7f4da85c8d"
          }
        },
        "5b7e1b47e28d47eea425f528541f6751": {
          "model_module": "@jupyter-widgets/controls",
          "model_name": "ProgressStyleModel",
          "state": {
            "_view_name": "StyleView",
            "_model_name": "ProgressStyleModel",
            "description_width": "initial",
            "_view_module": "@jupyter-widgets/base",
            "_model_module_version": "1.5.0",
            "_view_count": null,
            "_view_module_version": "1.2.0",
            "bar_color": null,
            "_model_module": "@jupyter-widgets/controls"
          }
        },
        "28594937fd244b82924c5392ee9a73a0": {
          "model_module": "@jupyter-widgets/base",
          "model_name": "LayoutModel",
          "state": {
            "_view_name": "LayoutView",
            "grid_template_rows": null,
            "right": null,
            "justify_content": null,
            "_view_module": "@jupyter-widgets/base",
            "overflow": null,
            "_model_module_version": "1.2.0",
            "_view_count": null,
            "flex_flow": null,
            "width": null,
            "min_width": null,
            "border": null,
            "align_items": null,
            "bottom": null,
            "_model_module": "@jupyter-widgets/base",
            "top": null,
            "grid_column": null,
            "overflow_y": null,
            "overflow_x": null,
            "grid_auto_flow": null,
            "grid_area": null,
            "grid_template_columns": null,
            "flex": null,
            "_model_name": "LayoutModel",
            "justify_items": null,
            "grid_row": null,
            "max_height": null,
            "align_content": null,
            "visibility": null,
            "align_self": null,
            "height": null,
            "min_height": null,
            "padding": null,
            "grid_auto_rows": null,
            "grid_gap": null,
            "max_width": null,
            "order": null,
            "_view_module_version": "1.2.0",
            "grid_template_areas": null,
            "object_position": null,
            "object_fit": null,
            "grid_auto_columns": null,
            "margin": null,
            "display": null,
            "left": null
          }
        },
        "20da218030f74701a880d8dd6fe7769c": {
          "model_module": "@jupyter-widgets/controls",
          "model_name": "DescriptionStyleModel",
          "state": {
            "_view_name": "StyleView",
            "_model_name": "DescriptionStyleModel",
            "description_width": "",
            "_view_module": "@jupyter-widgets/base",
            "_model_module_version": "1.5.0",
            "_view_count": null,
            "_view_module_version": "1.2.0",
            "_model_module": "@jupyter-widgets/controls"
          }
        },
        "ca7f054f15424e0c9a187b7f4da85c8d": {
          "model_module": "@jupyter-widgets/base",
          "model_name": "LayoutModel",
          "state": {
            "_view_name": "LayoutView",
            "grid_template_rows": null,
            "right": null,
            "justify_content": null,
            "_view_module": "@jupyter-widgets/base",
            "overflow": null,
            "_model_module_version": "1.2.0",
            "_view_count": null,
            "flex_flow": null,
            "width": null,
            "min_width": null,
            "border": null,
            "align_items": null,
            "bottom": null,
            "_model_module": "@jupyter-widgets/base",
            "top": null,
            "grid_column": null,
            "overflow_y": null,
            "overflow_x": null,
            "grid_auto_flow": null,
            "grid_area": null,
            "grid_template_columns": null,
            "flex": null,
            "_model_name": "LayoutModel",
            "justify_items": null,
            "grid_row": null,
            "max_height": null,
            "align_content": null,
            "visibility": null,
            "align_self": null,
            "height": null,
            "min_height": null,
            "padding": null,
            "grid_auto_rows": null,
            "grid_gap": null,
            "max_width": null,
            "order": null,
            "_view_module_version": "1.2.0",
            "grid_template_areas": null,
            "object_position": null,
            "object_fit": null,
            "grid_auto_columns": null,
            "margin": null,
            "display": null,
            "left": null
          }
        },
        "b81cfdf206d94bbe881eb1521d34a6a0": {
          "model_module": "@jupyter-widgets/controls",
          "model_name": "HBoxModel",
          "state": {
            "_view_name": "HBoxView",
            "_dom_classes": [],
            "_model_name": "HBoxModel",
            "_view_module": "@jupyter-widgets/controls",
            "_model_module_version": "1.5.0",
            "_view_count": null,
            "_view_module_version": "1.5.0",
            "box_style": "",
            "layout": "IPY_MODEL_678510bc83c34fb4a62802c31913a161",
            "_model_module": "@jupyter-widgets/controls",
            "children": [
              "IPY_MODEL_e12c35cd762946edb9ebc76c315bd9aa",
              "IPY_MODEL_adc4c63bf29944f28568f2ee529c6077"
            ]
          }
        },
        "678510bc83c34fb4a62802c31913a161": {
          "model_module": "@jupyter-widgets/base",
          "model_name": "LayoutModel",
          "state": {
            "_view_name": "LayoutView",
            "grid_template_rows": null,
            "right": null,
            "justify_content": null,
            "_view_module": "@jupyter-widgets/base",
            "overflow": null,
            "_model_module_version": "1.2.0",
            "_view_count": null,
            "flex_flow": null,
            "width": null,
            "min_width": null,
            "border": null,
            "align_items": null,
            "bottom": null,
            "_model_module": "@jupyter-widgets/base",
            "top": null,
            "grid_column": null,
            "overflow_y": null,
            "overflow_x": null,
            "grid_auto_flow": null,
            "grid_area": null,
            "grid_template_columns": null,
            "flex": null,
            "_model_name": "LayoutModel",
            "justify_items": null,
            "grid_row": null,
            "max_height": null,
            "align_content": null,
            "visibility": null,
            "align_self": null,
            "height": null,
            "min_height": null,
            "padding": null,
            "grid_auto_rows": null,
            "grid_gap": null,
            "max_width": null,
            "order": null,
            "_view_module_version": "1.2.0",
            "grid_template_areas": null,
            "object_position": null,
            "object_fit": null,
            "grid_auto_columns": null,
            "margin": null,
            "display": null,
            "left": null
          }
        },
        "e12c35cd762946edb9ebc76c315bd9aa": {
          "model_module": "@jupyter-widgets/controls",
          "model_name": "FloatProgressModel",
          "state": {
            "_view_name": "ProgressView",
            "style": "IPY_MODEL_f73ef047c89a4320a0e3752a34189e36",
            "_dom_classes": [],
            "description": "",
            "_model_name": "FloatProgressModel",
            "bar_style": "info",
            "max": 1,
            "_view_module": "@jupyter-widgets/controls",
            "_model_module_version": "1.5.0",
            "value": 0,
            "_view_count": null,
            "_view_module_version": "1.5.0",
            "orientation": "horizontal",
            "min": 0,
            "description_tooltip": null,
            "_model_module": "@jupyter-widgets/controls",
            "layout": "IPY_MODEL_27ee138e294643cfb53ab1fb6c3facb4"
          }
        },
        "adc4c63bf29944f28568f2ee529c6077": {
          "model_module": "@jupyter-widgets/controls",
          "model_name": "HTMLModel",
          "state": {
            "_view_name": "HTMLView",
            "style": "IPY_MODEL_6e296722dda94cf78b297ae20e5b5df2",
            "_dom_classes": [],
            "description": "",
            "_model_name": "HTMLModel",
            "placeholder": "​",
            "_view_module": "@jupyter-widgets/controls",
            "_model_module_version": "1.5.0",
            "value": " 0/? [00:00&lt;?, ?it/s]",
            "_view_count": null,
            "_view_module_version": "1.5.0",
            "description_tooltip": null,
            "_model_module": "@jupyter-widgets/controls",
            "layout": "IPY_MODEL_17b4555d566644299f5b637271135d7a"
          }
        },
        "f73ef047c89a4320a0e3752a34189e36": {
          "model_module": "@jupyter-widgets/controls",
          "model_name": "ProgressStyleModel",
          "state": {
            "_view_name": "StyleView",
            "_model_name": "ProgressStyleModel",
            "description_width": "initial",
            "_view_module": "@jupyter-widgets/base",
            "_model_module_version": "1.5.0",
            "_view_count": null,
            "_view_module_version": "1.2.0",
            "bar_color": null,
            "_model_module": "@jupyter-widgets/controls"
          }
        },
        "27ee138e294643cfb53ab1fb6c3facb4": {
          "model_module": "@jupyter-widgets/base",
          "model_name": "LayoutModel",
          "state": {
            "_view_name": "LayoutView",
            "grid_template_rows": null,
            "right": null,
            "justify_content": null,
            "_view_module": "@jupyter-widgets/base",
            "overflow": null,
            "_model_module_version": "1.2.0",
            "_view_count": null,
            "flex_flow": null,
            "width": null,
            "min_width": null,
            "border": null,
            "align_items": null,
            "bottom": null,
            "_model_module": "@jupyter-widgets/base",
            "top": null,
            "grid_column": null,
            "overflow_y": null,
            "overflow_x": null,
            "grid_auto_flow": null,
            "grid_area": null,
            "grid_template_columns": null,
            "flex": null,
            "_model_name": "LayoutModel",
            "justify_items": null,
            "grid_row": null,
            "max_height": null,
            "align_content": null,
            "visibility": null,
            "align_self": null,
            "height": null,
            "min_height": null,
            "padding": null,
            "grid_auto_rows": null,
            "grid_gap": null,
            "max_width": null,
            "order": null,
            "_view_module_version": "1.2.0",
            "grid_template_areas": null,
            "object_position": null,
            "object_fit": null,
            "grid_auto_columns": null,
            "margin": null,
            "display": null,
            "left": null
          }
        },
        "6e296722dda94cf78b297ae20e5b5df2": {
          "model_module": "@jupyter-widgets/controls",
          "model_name": "DescriptionStyleModel",
          "state": {
            "_view_name": "StyleView",
            "_model_name": "DescriptionStyleModel",
            "description_width": "",
            "_view_module": "@jupyter-widgets/base",
            "_model_module_version": "1.5.0",
            "_view_count": null,
            "_view_module_version": "1.2.0",
            "_model_module": "@jupyter-widgets/controls"
          }
        },
        "17b4555d566644299f5b637271135d7a": {
          "model_module": "@jupyter-widgets/base",
          "model_name": "LayoutModel",
          "state": {
            "_view_name": "LayoutView",
            "grid_template_rows": null,
            "right": null,
            "justify_content": null,
            "_view_module": "@jupyter-widgets/base",
            "overflow": null,
            "_model_module_version": "1.2.0",
            "_view_count": null,
            "flex_flow": null,
            "width": null,
            "min_width": null,
            "border": null,
            "align_items": null,
            "bottom": null,
            "_model_module": "@jupyter-widgets/base",
            "top": null,
            "grid_column": null,
            "overflow_y": null,
            "overflow_x": null,
            "grid_auto_flow": null,
            "grid_area": null,
            "grid_template_columns": null,
            "flex": null,
            "_model_name": "LayoutModel",
            "justify_items": null,
            "grid_row": null,
            "max_height": null,
            "align_content": null,
            "visibility": null,
            "align_self": null,
            "height": null,
            "min_height": null,
            "padding": null,
            "grid_auto_rows": null,
            "grid_gap": null,
            "max_width": null,
            "order": null,
            "_view_module_version": "1.2.0",
            "grid_template_areas": null,
            "object_position": null,
            "object_fit": null,
            "grid_auto_columns": null,
            "margin": null,
            "display": null,
            "left": null
          }
        }
      }
    }
  },
  "cells": [
    {
      "cell_type": "markdown",
      "metadata": {
        "id": "bn27NI7zaf9Z"
      },
      "source": [
        "## Семинар 5: \"Улучшение сходимости нейросетей\""
      ]
    },
    {
      "cell_type": "markdown",
      "metadata": {
        "id": "kY9vse7waf9b"
      },
      "source": [
        "**ФИО**: Тимонина Дарья"
      ]
    },
    {
      "cell_type": "code",
      "metadata": {
        "id": "JdEAkdunaf9d"
      },
      "source": [
        "import numpy as np\n",
        "from sklearn.model_selection import train_test_split\n",
        "import matplotlib.pyplot as plt\n",
        "import torch\n",
        "from torch import nn\n",
        "import torch.nn.functional as F\n",
        "from torch.autograd import Variable\n",
        "from torch.utils.data import DataLoader\n",
        "from torchvision.datasets import MNIST\n",
        "from torchvision import transforms\n",
        "%matplotlib inline"
      ],
      "execution_count": 1,
      "outputs": []
    },
    {
      "cell_type": "markdown",
      "metadata": {
        "id": "iIgr4r2Haf9l"
      },
      "source": [
        "На этом семинаре мы попробуем улучшить результаты, полученные на предыдущем занятии\n",
        "Для этого нам понадобятся следующие вещи:\n",
        "* Dropout\n",
        "* Batch Normalization\n",
        "* Инициализация весов"
      ]
    },
    {
      "cell_type": "markdown",
      "metadata": {
        "id": "CZHtxmbUaf9m"
      },
      "source": [
        "### Часть 1: Инициализация весов"
      ]
    },
    {
      "cell_type": "markdown",
      "metadata": {
        "id": "W8dhNr-faf9n"
      },
      "source": [
        "На лекции доказывалось, что при инициализации He и Glorot дисперсия активаций градиентов в каждом слое будут примерно равны. Давайте проверим это. "
      ]
    },
    {
      "cell_type": "code",
      "metadata": {
        "id": "216zZRJAaf9o",
        "outputId": "2c9851d3-d95a-4154-fd61-69a3bb6aef1b",
        "colab": {
          "base_uri": "https://localhost:8080/",
          "height": 399,
          "referenced_widgets": [
            "2b3a05b04c05491cb01875ead95ac3e7",
            "7d809a6ad5494b17911b82b7fa3e3801",
            "230b2b99a26d4e529e322afaa9331b7d",
            "9466fb9948294c86a6bf4a7b3503fa90",
            "3bbb32a5a0a4499abd4c4e47824f62aa",
            "faf4cdbadf794916ba5bc9f796b76cff",
            "75d892c5034f44489f8ef3d8b032aa54",
            "8b0643bd764c4ca8b66f0a143e2a930f",
            "066c1eea7d4a47e1ba51006e100e1593",
            "13d0420d10c746fbbc5daf0ac29db59b",
            "9fb353636c1d4583b258ce4143b8a386",
            "1b0ea8a7c94c48d7bf32a818682518ee",
            "b11a46c265534acfaa107ba2ea5ea85a",
            "d84f2233827f4073be2c6d6ec46def65",
            "46c42a8272da4dc8baf35d47485c4dda",
            "c77f7f07daa647b78dd4fde49a8d72d6",
            "b491107155b44cd6bd362153c6050f3c",
            "4753798b0a314274815423a2fc552049",
            "a77bd5bae76045a3aede198327551e3b",
            "42f277958b1b467898704a6ce74f79be",
            "5b7e1b47e28d47eea425f528541f6751",
            "28594937fd244b82924c5392ee9a73a0",
            "20da218030f74701a880d8dd6fe7769c",
            "ca7f054f15424e0c9a187b7f4da85c8d",
            "b81cfdf206d94bbe881eb1521d34a6a0",
            "678510bc83c34fb4a62802c31913a161",
            "e12c35cd762946edb9ebc76c315bd9aa",
            "adc4c63bf29944f28568f2ee529c6077",
            "f73ef047c89a4320a0e3752a34189e36",
            "27ee138e294643cfb53ab1fb6c3facb4",
            "6e296722dda94cf78b297ae20e5b5df2",
            "17b4555d566644299f5b637271135d7a"
          ]
        }
      },
      "source": [
        "# Dataloader\n",
        "to_numpy = lambda x: x.numpy()\n",
        "transform = transforms.Compose([\n",
        "                       transforms.ToTensor(),\n",
        "                       transforms.Normalize((0.1307,), (0.3081,))\n",
        "                    ])\n",
        "train_dataset = MNIST('.', train=True, download=True, transform=transform)\n",
        "test_dataset = MNIST('.', train=False, transform=transform)\n",
        "\n",
        "train_loader = DataLoader(train_dataset, batch_size=128, shuffle=True)\n",
        "test_loader = DataLoader(test_dataset, batch_size=128, shuffle=True)"
      ],
      "execution_count": 2,
      "outputs": [
        {
          "output_type": "stream",
          "text": [
            "Downloading http://yann.lecun.com/exdb/mnist/train-images-idx3-ubyte.gz to ./MNIST/raw/train-images-idx3-ubyte.gz\n"
          ],
          "name": "stdout"
        },
        {
          "output_type": "display_data",
          "data": {
            "application/vnd.jupyter.widget-view+json": {
              "model_id": "2b3a05b04c05491cb01875ead95ac3e7",
              "version_minor": 0,
              "version_major": 2
            },
            "text/plain": [
              "HBox(children=(FloatProgress(value=1.0, bar_style='info', max=1.0), HTML(value='')))"
            ]
          },
          "metadata": {
            "tags": []
          }
        },
        {
          "output_type": "stream",
          "text": [
            "Extracting ./MNIST/raw/train-images-idx3-ubyte.gz to ./MNIST/raw\n",
            "Downloading http://yann.lecun.com/exdb/mnist/train-labels-idx1-ubyte.gz to ./MNIST/raw/train-labels-idx1-ubyte.gz\n"
          ],
          "name": "stdout"
        },
        {
          "output_type": "display_data",
          "data": {
            "application/vnd.jupyter.widget-view+json": {
              "model_id": "066c1eea7d4a47e1ba51006e100e1593",
              "version_minor": 0,
              "version_major": 2
            },
            "text/plain": [
              "HBox(children=(FloatProgress(value=1.0, bar_style='info', max=1.0), HTML(value='')))"
            ]
          },
          "metadata": {
            "tags": []
          }
        },
        {
          "output_type": "stream",
          "text": [
            "Extracting ./MNIST/raw/train-labels-idx1-ubyte.gz to ./MNIST/raw\n",
            "Downloading http://yann.lecun.com/exdb/mnist/t10k-images-idx3-ubyte.gz to ./MNIST/raw/t10k-images-idx3-ubyte.gz\n"
          ],
          "name": "stdout"
        },
        {
          "output_type": "display_data",
          "data": {
            "application/vnd.jupyter.widget-view+json": {
              "model_id": "b491107155b44cd6bd362153c6050f3c",
              "version_minor": 0,
              "version_major": 2
            },
            "text/plain": [
              "HBox(children=(FloatProgress(value=1.0, bar_style='info', max=1.0), HTML(value='')))"
            ]
          },
          "metadata": {
            "tags": []
          }
        },
        {
          "output_type": "stream",
          "text": [
            "Extracting ./MNIST/raw/t10k-images-idx3-ubyte.gz to ./MNIST/raw\n",
            "Downloading http://yann.lecun.com/exdb/mnist/t10k-labels-idx1-ubyte.gz to ./MNIST/raw/t10k-labels-idx1-ubyte.gz\n",
            "\n",
            "\n"
          ],
          "name": "stdout"
        },
        {
          "output_type": "display_data",
          "data": {
            "application/vnd.jupyter.widget-view+json": {
              "model_id": "b81cfdf206d94bbe881eb1521d34a6a0",
              "version_minor": 0,
              "version_major": 2
            },
            "text/plain": [
              "HBox(children=(FloatProgress(value=1.0, bar_style='info', max=1.0), HTML(value='')))"
            ]
          },
          "metadata": {
            "tags": []
          }
        },
        {
          "output_type": "stream",
          "text": [
            "Extracting ./MNIST/raw/t10k-labels-idx1-ubyte.gz to ./MNIST/raw\n",
            "Processing...\n",
            "Done!\n"
          ],
          "name": "stdout"
        },
        {
          "output_type": "stream",
          "text": [
            "/usr/local/lib/python3.6/dist-packages/torchvision/datasets/mnist.py:480: UserWarning: The given NumPy array is not writeable, and PyTorch does not support non-writeable tensors. This means you can write to the underlying (supposedly non-writeable) NumPy array using the tensor. You may want to copy the array to protect its data or make it writeable before converting it to a tensor. This type of warning will be suppressed for the rest of this program. (Triggered internally at  /pytorch/torch/csrc/utils/tensor_numpy.cpp:141.)\n",
            "  return torch.from_numpy(parsed.astype(m[2], copy=False)).view(*s)\n"
          ],
          "name": "stderr"
        }
      ]
    },
    {
      "cell_type": "code",
      "metadata": {
        "id": "EqpqV_pVaf9t"
      },
      "source": [
        "images_train, labels_train = next(iter(train_loader))"
      ],
      "execution_count": 3,
      "outputs": []
    },
    {
      "cell_type": "code",
      "metadata": {
        "id": "agAN6Tyfaf9x"
      },
      "source": [
        "## Usage example:\n",
        "for X, y in train_loader:\n",
        "    X = X.view(X.size(0), -1)\n",
        "    X = X.numpy() ### Converts torch.Tensor to numpy array\n",
        "    y = y.numpy()\n",
        "    pass"
      ],
      "execution_count": 4,
      "outputs": []
    },
    {
      "cell_type": "code",
      "metadata": {
        "id": "71k9eU4Caf91",
        "outputId": "d056f30d-d7cf-4128-8736-5a83d5511445",
        "colab": {
          "base_uri": "https://localhost:8080/",
          "height": 420
        }
      },
      "source": [
        "plt.figure(figsize=(6, 7))\n",
        "for i in range(25):\n",
        "    plt.subplot(5, 5, i+1)\n",
        "    plt.imshow(X[i].reshape(28, 28), cmap=plt.cm.Greys_r)\n",
        "    plt.title(y[i])\n",
        "    plt.axis('off')"
      ],
      "execution_count": null,
      "outputs": [
        {
          "output_type": "display_data",
          "data": {
            "image/png": "[encoded data removed]",
            "text/plain": [
              "<Figure size 432x504 with 25 Axes>"
            ]
          },
          "metadata": {
            "tags": [],
            "needs_background": "light"
          }
        }
      ]
    },
    {
      "cell_type": "markdown",
      "metadata": {
        "id": "CjxGvxs8af98"
      },
      "source": [
        "<i> 1.1 </i> Инициализируйте полносвязную сеть нормальным шумом N(0, 0.1) с архитектурой 784 -> 500 x (10 раз) -> 10. В качестве активации возьмите tanh"
      ]
    },
    {
      "cell_type": "code",
      "metadata": {
        "id": "DgCP_qclaf99"
      },
      "source": [
        "def init_layer(layer, mean, std, init_func):\n",
        "    # Тут надо быть аккуратным — можно случайно создать копию и менять значения у копии\n",
        "    weight = layer.state_dict()['weight']\n",
        "    bias = layer.state_dict()['bias']\n",
        "    bias.zero_()\n",
        "    #1 - веса сети\n",
        "    #2 - нули ...\n",
        "    #bias = torch.zeros_like(bias)\n",
        "    if init_func == xavier:\n",
        "        weight.uniform_(-std, std)\n",
        "    else:    \n",
        "        weight.normal_(mean=0, std=std)\n",
        "\n",
        "def forward_hook(self, input_, output):\n",
        "    std = input_[0].std().item()\n",
        "    print('forward', std)\n",
        "\n",
        "def backward_hook(self, grad_input, grad_output):\n",
        "    std = grad_input[0].std().item()\n",
        "    print('backward', std)\n",
        "\n",
        "    "
      ],
      "execution_count": null,
      "outputs": []
    },
    {
      "cell_type": "code",
      "metadata": {
        "id": "roslMRZRaf-C"
      },
      "source": [
        "layers = []\n",
        "\n",
        "def normal(size_input, size_output):\n",
        "    return 0.1\n",
        "\n",
        "def counting(init_func):\n",
        "    layers = []\n",
        "    layer = nn.Linear(784, 500)\n",
        "    layer.register_forward_hook(forward_hook)\n",
        "    layer.register_backward_hook(backward_hook)\n",
        "    init_layer(layer, 0.0, init_func(784, 500), init_func) # сюда надо подставить другие параметры\n",
        "\n",
        "    layers.append(layer)\n",
        "\n",
        "    layers.append(nn.Tanh())\n",
        "\n",
        "    for i in range(10):    \n",
        "        layer = nn.Linear(500, 500)\n",
        "        layer.register_forward_hook(forward_hook)\n",
        "        layer.register_backward_hook(backward_hook)\n",
        "        init_layer(layer, 0.0, init_func(500, 500), init_func) # сюда надо подставить другие параметры\n",
        "    \n",
        "        layers.append(layer)\n",
        "        layers.append(nn.Tanh())\n",
        "\n",
        "    layer = nn.Linear(500, 10)\n",
        "    layer.register_forward_hook(forward_hook)\n",
        "    layer.register_backward_hook(backward_hook)\n",
        "    init_layer(layer, 0.0, init_func(500, 10), init_func)\n",
        "\n",
        "    layers.append(layer)\n",
        "\n",
        "    layers.append(nn.LogSoftmax())\n",
        "\n",
        "    network = nn.Sequential(*layers)\n",
        "    n_objects = 100\n",
        "    X = images_train[:n_objects].view(n_objects, -1).data\n",
        "    y = labels_train[:n_objects].data\n",
        "    activations = network(X)\n",
        "    loss_fn = torch.nn.NLLLoss()\n",
        "    optimizer = torch.optim.Adam(network.parameters(), lr=0.001) \n",
        "    loss = loss_fn(activations, y)\n",
        "    loss.backward()"
      ],
      "execution_count": null,
      "outputs": []
    },
    {
      "cell_type": "markdown",
      "metadata": {
        "id": "SsjtA7N_af-G"
      },
      "source": [
        "<i>1.2 Пропустите батч изображений через нейронную сеть и вычислите дисперсию активаций. Затем вычислите градиент и получите дисперсию градиентов. Сравните эти значения между собой для разных слоев.</i>"
      ]
    },
    {
      "cell_type": "code",
      "metadata": {
        "id": "7Ri1Tvuyaf-K",
        "scrolled": true,
        "outputId": "e668298a-0f3e-4dbb-bbe5-84ab7346b44d",
        "colab": {
          "base_uri": "https://localhost:8080/",
          "height": 1000
        }
      },
      "source": [
        "counting(normal)"
      ],
      "execution_count": null,
      "outputs": [
        {
          "output_type": "stream",
          "text": [
            "forward 0.9991745948791504\n",
            "forward 0.8509283661842346\n",
            "forward 0.7867933511734009\n",
            "forward 0.7693830728530884\n",
            "forward 0.7682247757911682\n",
            "forward 0.764503538608551\n",
            "forward 0.7646785974502563\n",
            "forward 0.7611390948295593\n",
            "forward 0.7623628973960876\n",
            "forward 0.7657545804977417\n",
            "forward 0.7639102935791016\n",
            "forward 0.764579713344574\n",
            "backward 0.04063250124454498\n",
            "backward 0.0065049477852880955\n",
            "backward 0.00790323968976736\n",
            "backward 0.009363737888634205\n",
            "backward 0.01060514710843563\n",
            "backward 0.012497159652411938\n",
            "backward 0.015539380721747875\n",
            "backward 0.020523637533187866\n",
            "backward 0.02428998425602913\n",
            "backward 0.0273135919123888\n",
            "backward 0.03174363076686859\n",
            "backward 0.03170566260814667\n"
          ],
          "name": "stdout"
        }
      ]
    },
    {
      "cell_type": "markdown",
      "metadata": {
        "id": "aUJG1Dbqaf-R"
      },
      "source": [
        "<i>1.3 Повторите эксперимент для инициализаций He и Xavier (формулы есть в лекции).</i>"
      ]
    },
    {
      "cell_type": "code",
      "metadata": {
        "id": "FyD1lPKwaf-T"
      },
      "source": [
        "##### YOUR CODE HERE #####\n",
        "\n",
        "def xavier(size_input, size_output):\n",
        "    d = 6. / (size_input + size_output)\n",
        "    return np.sqrt(d)\n",
        "\n",
        "def he(size_input, size_output):\n",
        "    d = 2. / size_output\n",
        "    return np.sqrt(d)"
      ],
      "execution_count": null,
      "outputs": []
    },
    {
      "cell_type": "code",
      "metadata": {
        "id": "6K5Sc4Io1c1v",
        "outputId": "8ae08c66-1c6d-4828-fb1b-cb9a30007abb"
      },
      "source": [
        "counting(xavier)"
      ],
      "execution_count": null,
      "outputs": [
        {
          "output_type": "stream",
          "text": [
            "forward 0.9991745948791504\n",
            "forward 0.647831380367279\n",
            "forward 0.5004415512084961\n",
            "forward 0.41499456763267517\n",
            "forward 0.3619958758354187\n",
            "forward 0.32170626521110535\n",
            "forward 0.29076337814331055\n",
            "forward 0.270599365234375\n",
            "forward 0.254257470369339\n",
            "forward 0.24200715124607086\n",
            "forward 0.22416456043720245\n",
            "forward 0.21273024380207062\n",
            "backward 0.017708633095026016\n",
            "backward 0.0032375510782003403\n",
            "backward 0.002918004058301449\n",
            "backward 0.0026556444354355335\n",
            "backward 0.0025196310598403215\n",
            "backward 0.0024317672941833735\n",
            "backward 0.002308584749698639\n",
            "backward 0.002329791197553277\n",
            "backward 0.002309444360435009\n",
            "backward 0.0021569475065916777\n",
            "backward 0.0018916288390755653\n",
            "backward 0.001568506588228047\n"
          ],
          "name": "stdout"
        }
      ]
    },
    {
      "cell_type": "code",
      "metadata": {
        "id": "b3dujsOR1c11",
        "outputId": "4b9d5706-521d-4d6f-8ea3-a1a357c0ae4e"
      },
      "source": [
        "counting(he)"
      ],
      "execution_count": null,
      "outputs": [
        {
          "output_type": "stream",
          "text": [
            "forward 0.9991745948791504\n",
            "forward 0.7668440341949463\n",
            "forward 0.6505753397941589\n",
            "forward 0.5981225967407227\n",
            "forward 0.5811432003974915\n",
            "forward 0.5738949179649353\n",
            "forward 0.5665675401687622\n",
            "forward 0.5583720803260803\n",
            "forward 0.5548287630081177\n",
            "forward 0.5575849413871765\n",
            "forward 0.557065486907959\n",
            "forward 0.5549479722976685\n",
            "backward 0.05091574788093567\n",
            "backward 0.05340928956866264\n",
            "backward 0.054392725229263306\n",
            "backward 0.06141059100627899\n",
            "backward 0.06627172231674194\n",
            "backward 0.06702776998281479\n",
            "backward 0.07150239497423172\n",
            "backward 0.06982108950614929\n",
            "backward 0.06837109476327896\n",
            "backward 0.06712857633829117\n",
            "backward 0.06415512412786484\n",
            "backward 0.047204408794641495\n"
          ],
          "name": "stdout"
        }
      ]
    },
    {
      "cell_type": "markdown",
      "metadata": {
        "id": "7U2YSSw5af-Y"
      },
      "source": [
        "<i> 1.4 Сделайте выводы по первой части </i>"
      ]
    },
    {
      "cell_type": "markdown",
      "metadata": {
        "id": "NBQ7o-hjaf-a"
      },
      "source": [
        "Вроде бы He и Xavier работают адекватнее"
      ]
    },
    {
      "cell_type": "markdown",
      "metadata": {
        "id": "4kYx-hwLaf-b"
      },
      "source": [
        "### Часть 2: Dropout"
      ]
    },
    {
      "cell_type": "markdown",
      "metadata": {
        "id": "mDoy5_yEaf-c"
      },
      "source": [
        "Другим полезным слоем является Dropout. В нем с вероятностью 1-p зануляется выход каждого нейрона. Этот слой уже реализован в pyTorch, поэтому вновь реализовывать его не интересно. Давайте реализуем DropConnect — аналог Dropout. В нем с вероятностью 1-p зануляется каждый вес слоя."
      ]
    },
    {
      "cell_type": "markdown",
      "metadata": {
        "id": "hxi77m72af-d"
      },
      "source": [
        "<i> 2.1 Реализуйте линейный слой с DropConnect </i>"
      ]
    },
    {
      "cell_type": "code",
      "metadata": {
        "id": "Ee2ljeNCaf-f"
      },
      "source": [
        "# полезная функция: .bernoulli_(p)\n",
        "# не забывайте делать requires_grad=False у маски\n",
        "# помните, что в вычислениях должны участвовать Variable, а не тензоры\n",
        "\n",
        "class DropConnect(nn.Module):\n",
        "    def __init__(self, input_dim, output_dim, p=0.5):\n",
        "        super(DropConnect, self).__init__()\n",
        "        self.linear = nn.Linear(input_dim, output_dim)\n",
        "        self.p = p\n",
        "\n",
        "    def forward(self, x):    \n",
        "        mask = torch.zeros_like(self.linear.weight) + self.p\n",
        "        if self.training:          \n",
        "            mask.bernoulli_()\n",
        "\n",
        "        mask = mask.data\n",
        "        output = F.linear(x, self.linear.weight * mask, self.linear.bias)\n",
        "        return output"
      ],
      "execution_count": 5,
      "outputs": []
    },
    {
      "cell_type": "markdown",
      "metadata": {
        "id": "CCv4jdyoaf-k"
      },
      "source": [
        "<i> \n",
        "2.2 Сравните графики обучения нейроных сетей:\n",
        "1. Свертки из TestNetwork -> 128 -> 128 -> 10 с ReLU и Dropout между всеми слоями \n",
        "2. Свертки из TestNetwork -> 128 -> 128 -> 10 с ReLU DropConnect вместо всех линейных слоев\n",
        "</i>"
      ]
    },
    {
      "cell_type": "code",
      "metadata": {
        "id": "uC3EYVlraf-m"
      },
      "source": [
        "class TestNetwork(nn.Module):\n",
        "    def __init__(self, final_part):\n",
        "        super().__init__()    \n",
        "        \n",
        "        channels = 1\n",
        "        \n",
        "        self.conv_layers = nn.Sequential(\n",
        "            nn.Conv2d(channels, 2, 3, padding=1),    \n",
        "            nn.MaxPool2d(2),\n",
        "            nn.ReLU(),\n",
        "            nn.Conv2d(2, 4, 3, padding=1),            \n",
        "            nn.MaxPool2d(2),\n",
        "            nn.ReLU(),\n",
        "        )\n",
        "        \n",
        "        #input_size = 7 * 7 * 4 = 196\n",
        "        self.flatten = nn.Flatten()\n",
        "        \n",
        "        self.final_part = final_part\n",
        "        \n",
        "        self.log_softmax = nn.LogSoftmax(1)        \n",
        "        \n",
        "    def forward(self, x):\n",
        "        x = self.conv_layers(x)\n",
        "        x = self.flatten(x)\n",
        "        x = self.final_part(x)\n",
        "        return self.log_softmax(x)"
      ],
      "execution_count": 6,
      "outputs": []
    },
    {
      "cell_type": "code",
      "metadata": {
        "id": "5Euv1Alyaf-5"
      },
      "source": [
        "sizes = [196, 256, 128, 10]\n",
        "layers = []\n",
        "for size_input, size_output in zip(sizes, sizes[1:]):\n",
        "    layer = nn.Linear(size_input, size_output)\n",
        "    layer = DropConnect(size_input, size_output, 0.9)\n",
        "    \n",
        "    layers.append(layer)\n",
        "    #layers.append(nn.Dropout(0.3))\n",
        "    layers.append(nn.ReLU())\n",
        "\n",
        "del layers[-1]"
      ],
      "execution_count": 7,
      "outputs": []
    },
    {
      "cell_type": "code",
      "metadata": {
        "id": "QRoKM7rtbGXr",
        "outputId": "c265547d-d94e-46fa-e68f-c115ccaf111a",
        "colab": {
          "base_uri": "https://localhost:8080/",
          "height": 361
        }
      },
      "source": [
        "%%time\n",
        "\n",
        "#blank\n",
        "from train_utils import train\n",
        "\n",
        "network = TestNetwork(nn.Sequential(*layers))\n",
        "\n",
        "train(network, train_loader, test_loader, 10, 0.001, device='cuda')"
      ],
      "execution_count": 11,
      "outputs": [
        {
          "output_type": "stream",
          "text": [
            "Epoch 9... (Train/Test) NLL: 0.121/0.265\tAccuracy: 0.963/0.977\n"
          ],
          "name": "stdout"
        },
        {
          "output_type": "display_data",
          "data": {
            "image/png": "[encoded data removed]",
            "text/plain": [
              "<Figure size 864x360 with 2 Axes>"
            ]
          },
          "metadata": {
            "tags": [],
            "needs_background": "light"
          }
        },
        {
          "output_type": "stream",
          "text": [
            "CPU times: user 2min 22s, sys: 1.9 s, total: 2min 24s\n",
            "Wall time: 2min 30s\n"
          ],
          "name": "stdout"
        }
      ]
    },
    {
      "cell_type": "code",
      "metadata": {
        "id": "yTnTgiInaf--",
        "scrolled": true,
        "outputId": "73a19917-8e54-474b-a151-1c0426b39a9b",
        "colab": {
          "base_uri": "https://localhost:8080/",
          "height": 393
        }
      },
      "source": [
        "%%time\n",
        "\n",
        "#dropout\n",
        "from train_utils import train\n",
        "\n",
        "network = TestNetwork(nn.Sequential(*layers))\n",
        "\n",
        "train(network, train_loader, test_loader, 10, 0.001, device='cuda')"
      ],
      "execution_count": null,
      "outputs": [
        {
          "output_type": "stream",
          "text": [
            "Epoch 9... (Train/Test) NLL: 0.438/0.061\tAccuracy: 0.783/0.982\n"
          ],
          "name": "stdout"
        },
        {
          "output_type": "display_data",
          "data": {
            "image/png": "[encoded data removed]",
            "text/plain": [
              "<Figure size 864x360 with 2 Axes>"
            ]
          },
          "metadata": {
            "tags": [],
            "needs_background": "light"
          }
        },
        {
          "output_type": "stream",
          "text": [
            "CPU times: user 1min 51s, sys: 439 ms, total: 1min 51s\n",
            "Wall time: 1min 51s\n"
          ],
          "name": "stdout"
        }
      ]
    },
    {
      "cell_type": "code",
      "metadata": {
        "id": "ZXDSZ5xNbQFw",
        "outputId": "cb82cb87-5bac-45a0-84b9-92e0a65ec917",
        "colab": {
          "base_uri": "https://localhost:8080/",
          "height": 393
        }
      },
      "source": [
        "%%time\n",
        "\n",
        "#dropconnect\n",
        "from train_utils import train\n",
        "\n",
        "network = TestNetwork(nn.Sequential(*layers))\n",
        "\n",
        "train(network, train_loader, test_loader, 10, 0.001, device='cuda')"
      ],
      "execution_count": null,
      "outputs": [
        {
          "output_type": "stream",
          "text": [
            "Epoch 9... (Train/Test) NLL: 0.154/0.332\tAccuracy: 0.952/0.969\n"
          ],
          "name": "stdout"
        },
        {
          "output_type": "display_data",
          "data": {
            "image/png": "[encoded data removed]",
            "text/plain": [
              "<Figure size 864x360 with 2 Axes>"
            ]
          },
          "metadata": {
            "tags": [],
            "needs_background": "light"
          }
        },
        {
          "output_type": "stream",
          "text": [
            "CPU times: user 1min 54s, sys: 413 ms, total: 1min 54s\n",
            "Wall time: 1min 54s\n"
          ],
          "name": "stdout"
        }
      ]
    },
    {
      "cell_type": "markdown",
      "metadata": {
        "id": "pooEVZFbaf_L"
      },
      "source": [
        "В test-time стохастичность Dropout убирают и заменяют все веса на их ожидаемое значение: $\\mathbb{E}w = pw + (1-p)0 = pw$."
      ]
    },
    {
      "cell_type": "markdown",
      "metadata": {
        "id": "yfBC8qS4af_K"
      },
      "source": [
        "<i> 2.3 Сделайте выводы по третьей части. </i>"
      ]
    },
    {
      "cell_type": "markdown",
      "metadata": {
        "id": "zFTfYoSSvm5h"
      },
      "source": [
        ""
      ]
    },
    {
      "cell_type": "markdown",
      "metadata": {
        "id": "if-VP-I4af_M"
      },
      "source": [
        "### Часть 3: Batch Normalization"
      ]
    },
    {
      "cell_type": "markdown",
      "metadata": {
        "id": "Vba0rSy-af_N"
      },
      "source": [
        "Наконец, давайте рассмотрим Batch Normalization. Этот слой вычитает среднее и делит на стандартное отклонение. Среднее и дисперсия вычисляются по батчу независимо для каждого нейрона. У этого слоя есть две важные проблемы: его нельзя использовать при обучении с размером батча 1 и он делает элементы батча зависимыми. Давайте реализуем аналог батч нормализации: <a href=https://arxiv.org/pdf/1607.06450.pdf>Layer normalization</a>. В layer normalization среднее и дисперсия вычисляются по активациям нейронов, независимо для каждого объекта."
      ]
    },
    {
      "cell_type": "markdown",
      "metadata": {
        "id": "cqUTAtjIaf_O"
      },
      "source": [
        "<i> 3.1 Реализуйте Layer Normalization </i>"
      ]
    },
    {
      "cell_type": "code",
      "metadata": {
        "id": "gBezmfIf1c25"
      },
      "source": [
        "from train_utils import train"
      ],
      "execution_count": 13,
      "outputs": []
    },
    {
      "cell_type": "code",
      "metadata": {
        "id": "JlQs2Xn17dLJ",
        "outputId": "70d1089e-8de5-4c76-bd08-241f2b7be07a",
        "colab": {
          "base_uri": "https://localhost:8080/"
        }
      },
      "source": [
        "x = torch.tensor(np.array([[1., 2., 3.], [4., 5., 6]]))\n",
        "mean = x.mean(1, keepdim=True)\n",
        "std = x.std(1, keepdim=True)\n",
        "print(mean)\n",
        "print(std)\n",
        "print((x - mean) / std)"
      ],
      "execution_count": 43,
      "outputs": [
        {
          "output_type": "stream",
          "text": [
            "tensor([[2.],\n",
            "        [5.]], dtype=torch.float64)\n",
            "tensor([[1.],\n",
            "        [1.]], dtype=torch.float64)\n",
            "tensor([[-1.,  0.,  1.],\n",
            "        [-1.,  0.,  1.]], dtype=torch.float64)\n"
          ],
          "name": "stdout"
        }
      ]
    },
    {
      "cell_type": "code",
      "metadata": {
        "id": "e2H4VX4_af_O"
      },
      "source": [
        "# полезные функции: .std(dim), .mean(dim)\n",
        "class LayerNormalization(nn.Module):\n",
        "    def forward(self, x):\n",
        "        mean = x.mean(-1, keepdim=True)\n",
        "        std = x.std(-1, keepdim=True)\n",
        "        return (x - mean) / std"
      ],
      "execution_count": 38,
      "outputs": []
    },
    {
      "cell_type": "markdown",
      "metadata": {
        "id": "g2sTZ7h5af_T"
      },
      "source": [
        "<i> \n",
        "3.2 Сравните графики обучения нейроных сетей:\n",
        "1. Свертки из TestNetwork -> 128 -> 128 -> 10 с ReLU и Batch normalization между всеми слоями \n",
        "2. Свертки из TestNetwork -> 128 -> 128 -> 10 с ReLU и Layer normalization между всеми слоями \n",
        "</i>"
      ]
    },
    {
      "cell_type": "code",
      "metadata": {
        "id": "q1PPqKRZaf_U",
        "outputId": "c9889668-ede7-41c4-aca1-810650cba307",
        "colab": {
          "base_uri": "https://localhost:8080/",
          "height": 998
        }
      },
      "source": [
        "##### YOUR CODE HERE #####\n",
        "lin_network = nn.Sequential(\n",
        "                        nn.BatchNorm1d(num_features=196),\n",
        "                        nn.Linear(196, 128), \n",
        "                        nn.ReLU(),\n",
        "                        nn.BatchNorm1d(num_features=128),\n",
        "                        nn.Linear(128, 128),\n",
        "                        nn.ReLU(),\n",
        "                        nn.BatchNorm1d(num_features=128),\n",
        "                        nn.Linear(128, 10),\n",
        "                        nn.BatchNorm1d(num_features=10),\n",
        "                        nn.LogSoftmax())\n",
        "network = TestNetwork(lin_network)\n",
        "\n",
        "train(network, train_loader, test_loader, 10, 0.001, device='cuda')"
      ],
      "execution_count": 42,
      "outputs": [
        {
          "output_type": "stream",
          "text": [
            "Epoch 9... (Train/Test) NLL: 0.035/0.051\tAccuracy: 0.992/0.986\n"
          ],
          "name": "stdout"
        },
        {
          "output_type": "display_data",
          "data": {
            "image/png": "[encoded data removed]",
            "text/plain": [
              "<Figure size 864x360 with 2 Axes>"
            ]
          },
          "metadata": {
            "tags": [],
            "needs_background": "light"
          }
        },
        {
          "output_type": "execute_result",
          "data": {
            "text/plain": [
              "([0.4792857023952866,\n",
              "  0.20039850462283662,\n",
              "  0.13108860594091384,\n",
              "  0.0981425803655119,\n",
              "  0.07655897068141747,\n",
              "  0.06317389282241051,\n",
              "  0.05303604888525217,\n",
              "  0.04386240978842414,\n",
              "  0.03974200455324927,\n",
              "  0.034735967190678056],\n",
              " [0.23198056013523777,\n",
              "  0.13302126479677007,\n",
              "  0.09684068318220633,\n",
              "  0.07659623498403573,\n",
              "  0.06886580815137941,\n",
              "  0.05521830855102479,\n",
              "  0.05521923040711804,\n",
              "  0.050035514668384684,\n",
              "  0.052057838928001594,\n",
              "  0.05104994140801173],\n",
              " [0.9188211,\n",
              "  0.96974945,\n",
              "  0.9776952,\n",
              "  0.9806825,\n",
              "  0.9837198,\n",
              "  0.98634064,\n",
              "  0.98835623,\n",
              "  0.9899109,\n",
              "  0.99038845,\n",
              "  0.99151003],\n",
              " [0.96964,\n",
              "  0.9783426,\n",
              "  0.9819027,\n",
              "  0.9853639,\n",
              "  0.98239714,\n",
              "  0.98645175,\n",
              "  0.98605615,\n",
              "  0.9872429,\n",
              "  0.9853639,\n",
              "  0.9855617])"
            ]
          },
          "metadata": {
            "tags": []
          },
          "execution_count": 42
        }
      ]
    },
    {
      "cell_type": "code",
      "metadata": {
        "id": "62aictCj5nSb",
        "outputId": "35fe7c85-a844-46a1-bbd3-0a9420512ad0",
        "colab": {
          "base_uri": "https://localhost:8080/",
          "height": 993
        }
      },
      "source": [
        "lin_network = nn.Sequential(\n",
        "                        LayerNormalization(),\n",
        "                        nn.Linear(196, 128), \n",
        "                        nn.ReLU(),\n",
        "                        LayerNormalization(),\n",
        "                        nn.Linear(128, 128),\n",
        "                        nn.ReLU(),\n",
        "                        LayerNormalization(),\n",
        "                        nn.Linear(128, 10),\n",
        "                        LayerNormalization(),\n",
        "                        nn.LogSoftmax())\n",
        "network = TestNetwork(lin_network)\n",
        "\n",
        "train(network, train_loader, test_loader, 10, 0.001, device='cuda')"
      ],
      "execution_count": 39,
      "outputs": [
        {
          "output_type": "stream",
          "text": [
            "Epoch 9... (Train/Test) NLL: 0.355/0.373\tAccuracy: 0.988/0.980\n"
          ],
          "name": "stdout"
        },
        {
          "output_type": "display_data",
          "data": {
            "image/png": "[encoded data removed]",
            "text/plain": [
              "<Figure size 864x360 with 2 Axes>"
            ]
          },
          "metadata": {
            "tags": [],
            "needs_background": "light"
          }
        },
        {
          "output_type": "execute_result",
          "data": {
            "text/plain": [
              "([0.574554702874694,\n",
              "  0.41841581336724987,\n",
              "  0.39522696354750125,\n",
              "  0.38161869108804,\n",
              "  0.3730885273993397,\n",
              "  0.36929866411030166,\n",
              "  0.36317794339489073,\n",
              "  0.36056057571856454,\n",
              "  0.3556794556600453,\n",
              "  0.35511751412582804],\n",
              " [0.4323371037652221,\n",
              "  0.4125641146792641,\n",
              "  0.3981791878048378,\n",
              "  0.38951901997191996,\n",
              "  0.38848081985606425,\n",
              "  0.3874274582802495,\n",
              "  0.38021008500569986,\n",
              "  0.3734905787661106,\n",
              "  0.37844779182084,\n",
              "  0.3732854022255427],\n",
              " [0.91915977,\n",
              "  0.9663624,\n",
              "  0.97389174,\n",
              "  0.97795063,\n",
              "  0.98106563,\n",
              "  0.9820651,\n",
              "  0.9847526,\n",
              "  0.9854189,\n",
              "  0.9875455,\n",
              "  0.98787314],\n",
              " [0.9631131,\n",
              "  0.9674644,\n",
              "  0.97033226,\n",
              "  0.9743869,\n",
              "  0.9739913,\n",
              "  0.9730024,\n",
              "  0.977057,\n",
              "  0.9806171,\n",
              "  0.97765034,\n",
              "  0.979826])"
            ]
          },
          "metadata": {
            "tags": []
          },
          "execution_count": 39
        }
      ]
    },
    {
      "cell_type": "markdown",
      "metadata": {
        "id": "cSNu9nQTAaV1"
      },
      "source": [
        ""
      ]
    },
    {
      "cell_type": "markdown",
      "metadata": {
        "id": "CudyBOIgaf_X"
      },
      "source": [
        "<i> 3.3 Сделайте выводы по третьей части </i>"
      ]
    },
    {
      "cell_type": "markdown",
      "metadata": {
        "id": "PgZh16-IvluR"
      },
      "source": [
        "Обе показали неплохой результат, лучше себя показала nn.BatchNorm1d\n"
      ]
    },
    {
      "cell_type": "markdown",
      "metadata": {
        "id": "8VTz6VQ5af_Z"
      },
      "source": [
        "#### Feedback (опционально)"
      ]
    },
    {
      "cell_type": "markdown",
      "metadata": {
        "id": "ewz7GZvvaf_Z"
      },
      "source": [
        "Здесь вы можете оставить список опечаток из лекции или семинара:"
      ]
    },
    {
      "cell_type": "markdown",
      "metadata": {
        "id": "XCSe88HUaf_a"
      },
      "source": [
        ""
      ]
    },
    {
      "cell_type": "markdown",
      "metadata": {
        "id": "58N5yqKUaf_b"
      },
      "source": [
        "Здесь вы можете оставить комментарии по лекции или семинару:"
      ]
    },
    {
      "cell_type": "markdown",
      "metadata": {
        "id": "SeGFzT7vaf_b"
      },
      "source": [
        ""
      ]
    }
  ]
}